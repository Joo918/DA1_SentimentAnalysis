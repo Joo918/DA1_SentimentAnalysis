{
  "nbformat": 4,
  "nbformat_minor": 0,
  "metadata": {
    "colab": {
      "name": "Bi-LSTM.ipynb",
      "provenance": []
    },
    "kernelspec": {
      "name": "python3",
      "display_name": "Python 3"
    },
    "accelerator": "GPU"
  },
  "cells": [
    {
      "cell_type": "code",
      "metadata": {
        "id": "cVCgjlN1VhZ-",
        "colab_type": "code",
        "outputId": "6600e5a8-ad76-4587-fe1a-e0d577e54497",
        "colab": {
          "base_uri": "https://localhost:8080/",
          "height": 36
        }
      },
      "source": [
        "from google.colab import drive\n",
        "drive.mount('/content/drive')"
      ],
      "execution_count": 0,
      "outputs": [
        {
          "output_type": "stream",
          "text": [
            "Drive already mounted at /content/drive; to attempt to forcibly remount, call drive.mount(\"/content/drive\", force_remount=True).\n"
          ],
          "name": "stdout"
        }
      ]
    },
    {
      "cell_type": "code",
      "metadata": {
        "id": "Xdmyjt82Y9Zp",
        "colab_type": "code",
        "colab": {}
      },
      "source": [
        "import numpy as np \n",
        "import pandas as pd \n",
        "\n",
        "from sklearn.feature_extraction.text import CountVectorizer\n",
        "from sklearn.metrics import confusion_matrix, accuracy_score\n",
        "from sklearn.model_selection import train_test_split\n",
        "\n",
        "from keras.preprocessing.text import Tokenizer\n",
        "from keras.preprocessing.sequence import pad_sequences\n",
        "from keras.models import Sequential\n",
        "from keras.layers import *\n",
        "from keras.utils.np_utils import to_categorical\n",
        "from keras.initializers import Constant\n",
        "import re"
      ],
      "execution_count": 0,
      "outputs": []
    },
    {
      "cell_type": "code",
      "metadata": {
        "id": "8I_ceV1Kug_B",
        "colab_type": "code",
        "outputId": "ea3ce9ee-ab2b-403a-bf3c-fbd81b718346",
        "colab": {
          "base_uri": "https://localhost:8080/",
          "height": 480
        }
      },
      "source": [
        "print(pd.__version__)\n",
        "data = pd.read_csv(\"/content/drive/My Drive/DA_Project/train.csv\")\n",
        "t_data = pd.read_csv(\"/content/drive/My Drive/DA_Project/test.csv\")\n",
        "print(data.shape)\n",
        "print(t_data.shape)\n",
        "#print(data)\n",
        "#print(data.columns)\n",
        "data = data.append(t_data, ignore_index = True)\n",
        "data"
      ],
      "execution_count": 0,
      "outputs": [
        {
          "output_type": "stream",
          "text": [
            "1.0.3\n",
            "(27486, 4)\n",
            "(3535, 3)\n"
          ],
          "name": "stdout"
        },
        {
          "output_type": "execute_result",
          "data": {
            "text/html": [
              "<div>\n",
              "<style scoped>\n",
              "    .dataframe tbody tr th:only-of-type {\n",
              "        vertical-align: middle;\n",
              "    }\n",
              "\n",
              "    .dataframe tbody tr th {\n",
              "        vertical-align: top;\n",
              "    }\n",
              "\n",
              "    .dataframe thead th {\n",
              "        text-align: right;\n",
              "    }\n",
              "</style>\n",
              "<table border=\"1\" class=\"dataframe\">\n",
              "  <thead>\n",
              "    <tr style=\"text-align: right;\">\n",
              "      <th></th>\n",
              "      <th>textID</th>\n",
              "      <th>text</th>\n",
              "      <th>selected_text</th>\n",
              "      <th>sentiment</th>\n",
              "    </tr>\n",
              "  </thead>\n",
              "  <tbody>\n",
              "    <tr>\n",
              "      <th>0</th>\n",
              "      <td>a3d0a7d5ad</td>\n",
              "      <td>Spent the entire morning in a meeting w/ a ven...</td>\n",
              "      <td>my boss was not happy w/ them. Lots of fun.</td>\n",
              "      <td>neutral</td>\n",
              "    </tr>\n",
              "    <tr>\n",
              "      <th>1</th>\n",
              "      <td>251b6a6766</td>\n",
              "      <td>Oh! Good idea about putting them on ice cream</td>\n",
              "      <td>Good</td>\n",
              "      <td>positive</td>\n",
              "    </tr>\n",
              "    <tr>\n",
              "      <th>2</th>\n",
              "      <td>c9e8d1ef1c</td>\n",
              "      <td>says good (or should i say bad?) afternoon!  h...</td>\n",
              "      <td>says good (or should i say bad?) afternoon!</td>\n",
              "      <td>neutral</td>\n",
              "    </tr>\n",
              "    <tr>\n",
              "      <th>3</th>\n",
              "      <td>f14f087215</td>\n",
              "      <td>i dont think you can vote anymore! i tried</td>\n",
              "      <td>i dont think you can vote anymore!</td>\n",
              "      <td>negative</td>\n",
              "    </tr>\n",
              "    <tr>\n",
              "      <th>4</th>\n",
              "      <td>bf7473b12d</td>\n",
              "      <td>haha better drunken tweeting you mean?</td>\n",
              "      <td>better</td>\n",
              "      <td>positive</td>\n",
              "    </tr>\n",
              "    <tr>\n",
              "      <th>...</th>\n",
              "      <td>...</td>\n",
              "      <td>...</td>\n",
              "      <td>...</td>\n",
              "      <td>...</td>\n",
              "    </tr>\n",
              "    <tr>\n",
              "      <th>31016</th>\n",
              "      <td>2f8444db6c</td>\n",
              "      <td>@_shannon1234 Shannie im so sorry! didnt mean ...</td>\n",
              "      <td>NaN</td>\n",
              "      <td>negative</td>\n",
              "    </tr>\n",
              "    <tr>\n",
              "      <th>31017</th>\n",
              "      <td>11de8c0456</td>\n",
              "      <td>Im Slowing on My Tweets..Cuase I Lost My Phone</td>\n",
              "      <td>NaN</td>\n",
              "      <td>negative</td>\n",
              "    </tr>\n",
              "    <tr>\n",
              "      <th>31018</th>\n",
              "      <td>08f6036add</td>\n",
              "      <td>Invasion of the Old Ladies has just ended, sti...</td>\n",
              "      <td>NaN</td>\n",
              "      <td>neutral</td>\n",
              "    </tr>\n",
              "    <tr>\n",
              "      <th>31019</th>\n",
              "      <td>27d6472b81</td>\n",
              "      <td>$#@! My nose stud fell out and I can't find it...</td>\n",
              "      <td>NaN</td>\n",
              "      <td>negative</td>\n",
              "    </tr>\n",
              "    <tr>\n",
              "      <th>31020</th>\n",
              "      <td>aa1a163174</td>\n",
              "      <td>Will do</td>\n",
              "      <td>NaN</td>\n",
              "      <td>neutral</td>\n",
              "    </tr>\n",
              "  </tbody>\n",
              "</table>\n",
              "<p>31021 rows × 4 columns</p>\n",
              "</div>"
            ],
            "text/plain": [
              "           textID  ... sentiment\n",
              "0      a3d0a7d5ad  ...   neutral\n",
              "1      251b6a6766  ...  positive\n",
              "2      c9e8d1ef1c  ...   neutral\n",
              "3      f14f087215  ...  negative\n",
              "4      bf7473b12d  ...  positive\n",
              "...           ...  ...       ...\n",
              "31016  2f8444db6c  ...  negative\n",
              "31017  11de8c0456  ...  negative\n",
              "31018  08f6036add  ...   neutral\n",
              "31019  27d6472b81  ...  negative\n",
              "31020  aa1a163174  ...   neutral\n",
              "\n",
              "[31021 rows x 4 columns]"
            ]
          },
          "metadata": {
            "tags": []
          },
          "execution_count": 31
        }
      ]
    },
    {
      "cell_type": "code",
      "metadata": {
        "id": "wntq_8Qcua6f",
        "colab_type": "code",
        "outputId": "bceff791-ca6d-409a-f03f-37834c7cfc9a",
        "colab": {
          "base_uri": "https://localhost:8080/",
          "height": 424
        }
      },
      "source": [
        "def getLower(x):\n",
        "  #print(x)\n",
        "  if pd.isna(x):\n",
        "    return ''\n",
        "  return x.lower()\n",
        "\n",
        "data = data.astype('string')\n",
        "data['sentiment'] = data['sentiment'].map({'negative': -1, 'neutral': 0, 'positive': 1})\n",
        "data['text'] = data['text'].map(getLower)\n",
        "data['text'] = data['text'].str.replace('[^\\w\\s]', '')\n",
        "data"
      ],
      "execution_count": 0,
      "outputs": [
        {
          "output_type": "execute_result",
          "data": {
            "text/html": [
              "<div>\n",
              "<style scoped>\n",
              "    .dataframe tbody tr th:only-of-type {\n",
              "        vertical-align: middle;\n",
              "    }\n",
              "\n",
              "    .dataframe tbody tr th {\n",
              "        vertical-align: top;\n",
              "    }\n",
              "\n",
              "    .dataframe thead th {\n",
              "        text-align: right;\n",
              "    }\n",
              "</style>\n",
              "<table border=\"1\" class=\"dataframe\">\n",
              "  <thead>\n",
              "    <tr style=\"text-align: right;\">\n",
              "      <th></th>\n",
              "      <th>textID</th>\n",
              "      <th>text</th>\n",
              "      <th>selected_text</th>\n",
              "      <th>sentiment</th>\n",
              "    </tr>\n",
              "  </thead>\n",
              "  <tbody>\n",
              "    <tr>\n",
              "      <th>0</th>\n",
              "      <td>a3d0a7d5ad</td>\n",
              "      <td>spent the entire morning in a meeting w a vend...</td>\n",
              "      <td>my boss was not happy w/ them. Lots of fun.</td>\n",
              "      <td>0</td>\n",
              "    </tr>\n",
              "    <tr>\n",
              "      <th>1</th>\n",
              "      <td>251b6a6766</td>\n",
              "      <td>oh good idea about putting them on ice cream</td>\n",
              "      <td>Good</td>\n",
              "      <td>1</td>\n",
              "    </tr>\n",
              "    <tr>\n",
              "      <th>2</th>\n",
              "      <td>c9e8d1ef1c</td>\n",
              "      <td>says good or should i say bad afternoon  httpp...</td>\n",
              "      <td>says good (or should i say bad?) afternoon!</td>\n",
              "      <td>0</td>\n",
              "    </tr>\n",
              "    <tr>\n",
              "      <th>3</th>\n",
              "      <td>f14f087215</td>\n",
              "      <td>i dont think you can vote anymore i tried</td>\n",
              "      <td>i dont think you can vote anymore!</td>\n",
              "      <td>-1</td>\n",
              "    </tr>\n",
              "    <tr>\n",
              "      <th>4</th>\n",
              "      <td>bf7473b12d</td>\n",
              "      <td>haha better drunken tweeting you mean</td>\n",
              "      <td>better</td>\n",
              "      <td>1</td>\n",
              "    </tr>\n",
              "    <tr>\n",
              "      <th>...</th>\n",
              "      <td>...</td>\n",
              "      <td>...</td>\n",
              "      <td>...</td>\n",
              "      <td>...</td>\n",
              "    </tr>\n",
              "    <tr>\n",
              "      <th>31016</th>\n",
              "      <td>2f8444db6c</td>\n",
              "      <td>_shannon1234 shannie im so sorry didnt mean to...</td>\n",
              "      <td>&lt;NA&gt;</td>\n",
              "      <td>-1</td>\n",
              "    </tr>\n",
              "    <tr>\n",
              "      <th>31017</th>\n",
              "      <td>11de8c0456</td>\n",
              "      <td>im slowing on my tweetscuase i lost my phone</td>\n",
              "      <td>&lt;NA&gt;</td>\n",
              "      <td>-1</td>\n",
              "    </tr>\n",
              "    <tr>\n",
              "      <th>31018</th>\n",
              "      <td>08f6036add</td>\n",
              "      <td>invasion of the old ladies has just ended stil...</td>\n",
              "      <td>&lt;NA&gt;</td>\n",
              "      <td>0</td>\n",
              "    </tr>\n",
              "    <tr>\n",
              "      <th>31019</th>\n",
              "      <td>27d6472b81</td>\n",
              "      <td>my nose stud fell out and i cant find it  loo...</td>\n",
              "      <td>&lt;NA&gt;</td>\n",
              "      <td>-1</td>\n",
              "    </tr>\n",
              "    <tr>\n",
              "      <th>31020</th>\n",
              "      <td>aa1a163174</td>\n",
              "      <td>will do</td>\n",
              "      <td>&lt;NA&gt;</td>\n",
              "      <td>0</td>\n",
              "    </tr>\n",
              "  </tbody>\n",
              "</table>\n",
              "<p>31021 rows × 4 columns</p>\n",
              "</div>"
            ],
            "text/plain": [
              "           textID  ... sentiment\n",
              "0      a3d0a7d5ad  ...         0\n",
              "1      251b6a6766  ...         1\n",
              "2      c9e8d1ef1c  ...         0\n",
              "3      f14f087215  ...        -1\n",
              "4      bf7473b12d  ...         1\n",
              "...           ...  ...       ...\n",
              "31016  2f8444db6c  ...        -1\n",
              "31017  11de8c0456  ...        -1\n",
              "31018  08f6036add  ...         0\n",
              "31019  27d6472b81  ...        -1\n",
              "31020  aa1a163174  ...         0\n",
              "\n",
              "[31021 rows x 4 columns]"
            ]
          },
          "metadata": {
            "tags": []
          },
          "execution_count": 32
        }
      ]
    },
    {
      "cell_type": "code",
      "metadata": {
        "id": "UzgnU8QQubG7",
        "colab_type": "code",
        "outputId": "5685c77f-3efa-4229-9a44-9e1ea1f55f83",
        "colab": {
          "base_uri": "https://localhost:8080/",
          "height": 480
        }
      },
      "source": [
        "print(data.shape)\n",
        "total_data = data.copy()\n",
        "data = total_data.iloc[:27486, : ]\n",
        "t_data = total_data.iloc[27486:,: ]\n",
        "print(data.shape)\n",
        "print(t_data.shape)\n",
        "df_0 = data[data['sentiment'] == -1].sample(frac=1)\n",
        "df_1 = data[data['sentiment'] == 0].sample(frac=1)\n",
        "df_2 = data[data['sentiment'] == 1].sample(frac=1)\n",
        "\n",
        "# we want a balanced set for training against\n",
        "sample_size = min(len(df_0), len(df_1), len(df_2))\n",
        "data = pd.concat([df_0.head(sample_size), df_1.head(sample_size), df_2.head(sample_size)]).sample(frac=1)\n",
        "data"
      ],
      "execution_count": 0,
      "outputs": [
        {
          "output_type": "stream",
          "text": [
            "(31021, 4)\n",
            "(27486, 4)\n",
            "(3535, 4)\n"
          ],
          "name": "stdout"
        },
        {
          "output_type": "execute_result",
          "data": {
            "text/html": [
              "<div>\n",
              "<style scoped>\n",
              "    .dataframe tbody tr th:only-of-type {\n",
              "        vertical-align: middle;\n",
              "    }\n",
              "\n",
              "    .dataframe tbody tr th {\n",
              "        vertical-align: top;\n",
              "    }\n",
              "\n",
              "    .dataframe thead th {\n",
              "        text-align: right;\n",
              "    }\n",
              "</style>\n",
              "<table border=\"1\" class=\"dataframe\">\n",
              "  <thead>\n",
              "    <tr style=\"text-align: right;\">\n",
              "      <th></th>\n",
              "      <th>textID</th>\n",
              "      <th>text</th>\n",
              "      <th>selected_text</th>\n",
              "      <th>sentiment</th>\n",
              "    </tr>\n",
              "  </thead>\n",
              "  <tbody>\n",
              "    <tr>\n",
              "      <th>23136</th>\n",
              "      <td>1211606305</td>\n",
              "      <td>if a cong govt was ruling karnataka cauvery w...</td>\n",
              "      <td>Truly, our politicians have no integrity.</td>\n",
              "      <td>-1</td>\n",
              "    </tr>\n",
              "    <tr>\n",
              "      <th>12202</th>\n",
              "      <td>8d31b4cc44</td>\n",
              "      <td>i am sorry</td>\n",
              "      <td>I am sorry.</td>\n",
              "      <td>-1</td>\n",
              "    </tr>\n",
              "    <tr>\n",
              "      <th>4219</th>\n",
              "      <td>3d53aa06a2</td>\n",
              "      <td>u callin me grimmy</td>\n",
              "      <td>grimmy</td>\n",
              "      <td>-1</td>\n",
              "    </tr>\n",
              "    <tr>\n",
              "      <th>21398</th>\n",
              "      <td>e78dbb2c35</td>\n",
              "      <td>wish i coulda been there</td>\n",
              "      <td>wish</td>\n",
              "      <td>1</td>\n",
              "    </tr>\n",
              "    <tr>\n",
              "      <th>22373</th>\n",
              "      <td>49fdfc3d3b</td>\n",
              "      <td>agrees</td>\n",
              "      <td>/agrees</td>\n",
              "      <td>0</td>\n",
              "    </tr>\n",
              "    <tr>\n",
              "      <th>...</th>\n",
              "      <td>...</td>\n",
              "      <td>...</td>\n",
              "      <td>...</td>\n",
              "      <td>...</td>\n",
              "    </tr>\n",
              "    <tr>\n",
              "      <th>14999</th>\n",
              "      <td>c6d89eb41b</td>\n",
              "      <td>happy mothers day  breakfast with the fam lt33</td>\n",
              "      <td>Happy</td>\n",
              "      <td>1</td>\n",
              "    </tr>\n",
              "    <tr>\n",
              "      <th>27469</th>\n",
              "      <td>8080dbb71a</td>\n",
              "      <td>save mei feel like im going crazy   httpblipfm...</td>\n",
              "      <td>i feel like i'm going crazy.</td>\n",
              "      <td>-1</td>\n",
              "    </tr>\n",
              "    <tr>\n",
              "      <th>17957</th>\n",
              "      <td>5c452788b2</td>\n",
              "      <td>the fam back on the big island said the vog ha...</td>\n",
              "      <td>bad</td>\n",
              "      <td>-1</td>\n",
              "    </tr>\n",
              "    <tr>\n",
              "      <th>17755</th>\n",
              "      <td>747c796ad4</td>\n",
              "      <td>feel sick too much cheese on toast</td>\n",
              "      <td>sick.</td>\n",
              "      <td>-1</td>\n",
              "    </tr>\n",
              "    <tr>\n",
              "      <th>7441</th>\n",
              "      <td>d8d013aadc</td>\n",
              "      <td>watching scariest places on earth  i love this...</td>\n",
              "      <td>love</td>\n",
              "      <td>1</td>\n",
              "    </tr>\n",
              "  </tbody>\n",
              "</table>\n",
              "<p>23358 rows × 4 columns</p>\n",
              "</div>"
            ],
            "text/plain": [
              "           textID  ... sentiment\n",
              "23136  1211606305  ...        -1\n",
              "12202  8d31b4cc44  ...        -1\n",
              "4219   3d53aa06a2  ...        -1\n",
              "21398  e78dbb2c35  ...         1\n",
              "22373  49fdfc3d3b  ...         0\n",
              "...           ...  ...       ...\n",
              "14999  c6d89eb41b  ...         1\n",
              "27469  8080dbb71a  ...        -1\n",
              "17957  5c452788b2  ...        -1\n",
              "17755  747c796ad4  ...        -1\n",
              "7441   d8d013aadc  ...         1\n",
              "\n",
              "[23358 rows x 4 columns]"
            ]
          },
          "metadata": {
            "tags": []
          },
          "execution_count": 33
        }
      ]
    },
    {
      "cell_type": "code",
      "metadata": {
        "id": "Xeqd98OVubN1",
        "colab_type": "code",
        "outputId": "cc13ba7b-a285-44c1-d811-0273561f7198",
        "colab": {
          "base_uri": "https://localhost:8080/",
          "height": 73
        }
      },
      "source": [
        "data['l'] = data['text'].apply(lambda x: len(str(x).split(' ')))\n",
        "print(\"mean length of sentence: \" + str(data.l.mean()))\n",
        "print(\"max length of sentence: \" + str(data.l.max()))\n",
        "print(\"std dev length of sentence: \" + str(data.l.std()))"
      ],
      "execution_count": 0,
      "outputs": [
        {
          "output_type": "stream",
          "text": [
            "mean length of sentence: 13.833932699717442\n",
            "max length of sentence: 38\n",
            "std dev length of sentence: 7.127914107327437\n"
          ],
          "name": "stdout"
        }
      ]
    },
    {
      "cell_type": "code",
      "metadata": {
        "id": "vE6lroXV3Y52",
        "colab_type": "code",
        "outputId": "f9b46baf-5333-43ed-a908-77d8ccac67a5",
        "colab": {
          "base_uri": "https://localhost:8080/",
          "height": 92
        }
      },
      "source": [
        "sequence_length = 50\n",
        "max_features = 20000 # this is the number of words we care about\n",
        "\n",
        "tokenizer = Tokenizer(num_words=max_features, split=' ', oov_token='<unw>', filters=' ')\n",
        "tokenizer.fit_on_texts(data['text'].values)\n",
        "tokenizer.fit_on_texts(t_data['text'].values)\n",
        "\n",
        "# this takes our sentences and replaces each word with an integer\n",
        "X_train = tokenizer.texts_to_sequences(data['text'].values)\n",
        "X_test = tokenizer.texts_to_sequences(t_data['text'].values)\n",
        "\n",
        "# we then pad the sequences so they're all the same length (sequence_length)\n",
        "X_train = pad_sequences(X_train, sequence_length)\n",
        "X_test = pad_sequences(X_test, sequence_length)\n",
        "\n",
        "y_train = pd.get_dummies(data['sentiment']).values\n",
        "y_test = pd.get_dummies(t_data['sentiment']).values\n",
        "print(X_train.shape)\n",
        "print(y_train.shape)\n",
        "print(X_test.shape)\n",
        "print(y_test.shape)\n",
        "#X_train, X_test, y_train, y_test = train_test_split(X, y, test_size=3535)\n"
      ],
      "execution_count": 0,
      "outputs": [
        {
          "output_type": "stream",
          "text": [
            "(23358, 50)\n",
            "(23358, 3)\n",
            "(3535, 50)\n",
            "(3535, 3)\n"
          ],
          "name": "stdout"
        }
      ]
    },
    {
      "cell_type": "code",
      "metadata": {
        "id": "PoRPA2yP3ZEY",
        "colab_type": "code",
        "outputId": "fe317b9d-9783-4b07-b85f-e8a795a657d0",
        "colab": {
          "base_uri": "https://localhost:8080/",
          "height": 36
        }
      },
      "source": [
        "import os\n",
        "embeddings_index = {}\n",
        "f = open(os.path.join('/content/drive/My Drive/DA_Project/glove.twitter.27B.100d.txt'))\n",
        "for line in f:\n",
        "    values = line.split()\n",
        "    word = values[0]\n",
        "    coefs = np.asarray(values[1:], dtype='float32')\n",
        "    embeddings_index[word] = coefs\n",
        "f.close()\n",
        "\n",
        "print('Found %s word vectors.' % len(embeddings_index))\n"
      ],
      "execution_count": 0,
      "outputs": [
        {
          "output_type": "stream",
          "text": [
            "Found 1193514 word vectors.\n"
          ],
          "name": "stdout"
        }
      ]
    },
    {
      "cell_type": "code",
      "metadata": {
        "id": "JGMPBC7vLsNr",
        "colab_type": "code",
        "outputId": "c333e947-06c0-4f30-fa15-209f8a347dfc",
        "colab": {
          "base_uri": "https://localhost:8080/",
          "height": 36
        }
      },
      "source": [
        "word_index = tokenizer.word_index\n",
        "print('Found %s unique tokens.' % len(word_index))"
      ],
      "execution_count": 0,
      "outputs": [
        {
          "output_type": "stream",
          "text": [
            "Found 29652 unique tokens.\n"
          ],
          "name": "stdout"
        }
      ]
    },
    {
      "cell_type": "code",
      "metadata": {
        "id": "9V13gfczL8ng",
        "colab_type": "code",
        "outputId": "c3c84222-8463-4070-80ef-83375134ddbe",
        "colab": {
          "base_uri": "https://localhost:8080/",
          "height": 36
        }
      },
      "source": [
        "num_words = min(max_features, len(word_index)) + 1\n",
        "print(num_words)\n",
        "\n",
        "embedding_dim = 100\n",
        "\n",
        "# first create a matrix of zeros, this is our embedding matrix\n",
        "embedding_matrix = np.zeros((num_words, embedding_dim))\n",
        "\n",
        "# for each word in out tokenizer lets try to find that work in our w2v model\n",
        "for word, i in word_index.items():\n",
        "    if i > max_features:\n",
        "        continue\n",
        "    embedding_vector = embeddings_index.get(word)\n",
        "    if embedding_vector is not None:\n",
        "        # we found the word - add that words vector to the matrix\n",
        "        embedding_matrix[i] = embedding_vector\n",
        "    else:\n",
        "        # doesn't exist, assign a random vector\n",
        "        embedding_matrix[i] = np.random.randn(embedding_dim)"
      ],
      "execution_count": 0,
      "outputs": [
        {
          "output_type": "stream",
          "text": [
            "20001\n"
          ],
          "name": "stdout"
        }
      ]
    },
    {
      "cell_type": "code",
      "metadata": {
        "id": "BOGwA_moMLbR",
        "colab_type": "code",
        "outputId": "e37df27b-6531-420c-afe2-5d241feacd3e",
        "colab": {
          "base_uri": "https://localhost:8080/",
          "height": 409
        }
      },
      "source": [
        "def model():\n",
        "  model = Sequential()\n",
        "  model.add(Embedding(num_words,\n",
        "                      embedding_dim,\n",
        "                      embeddings_initializer=Constant(embedding_matrix),\n",
        "                      input_length=sequence_length,\n",
        "                      trainable=True))\n",
        "  model.add(SpatialDropout1D(0.2))\n",
        "  model.add(Bidirectional(LSTM(64, return_sequences=True)))\n",
        "  model.add(Bidirectional(LSTM(32)))\n",
        "  model.add(Dropout(0.25))\n",
        "  model.add(Dense(units=3, activation='softmax'))\n",
        "  model.compile(loss = 'categorical_crossentropy', optimizer='adam',metrics = ['accuracy'])\n",
        "  print(model.summary())\n",
        "  return model\n",
        "model = model()"
      ],
      "execution_count": 0,
      "outputs": [
        {
          "output_type": "stream",
          "text": [
            "Model: \"sequential_2\"\n",
            "_________________________________________________________________\n",
            "Layer (type)                 Output Shape              Param #   \n",
            "=================================================================\n",
            "embedding_2 (Embedding)      (None, 50, 100)           2000100   \n",
            "_________________________________________________________________\n",
            "spatial_dropout1d_2 (Spatial (None, 50, 100)           0         \n",
            "_________________________________________________________________\n",
            "bidirectional_3 (Bidirection (None, 50, 128)           84480     \n",
            "_________________________________________________________________\n",
            "bidirectional_4 (Bidirection (None, 64)                41216     \n",
            "_________________________________________________________________\n",
            "dropout_2 (Dropout)          (None, 64)                0         \n",
            "_________________________________________________________________\n",
            "dense_2 (Dense)              (None, 3)                 195       \n",
            "=================================================================\n",
            "Total params: 2,125,991\n",
            "Trainable params: 2,125,991\n",
            "Non-trainable params: 0\n",
            "_________________________________________________________________\n",
            "None\n"
          ],
          "name": "stdout"
        }
      ]
    },
    {
      "cell_type": "code",
      "metadata": {
        "id": "XenCxzq_PgWG",
        "colab_type": "code",
        "outputId": "0a0bf225-37a2-4cf2-e5a1-5151ee54613d",
        "colab": {
          "base_uri": "https://localhost:8080/",
          "height": 280
        }
      },
      "source": [
        "batch_size = 128\n",
        "history = model.fit(X_train, y_train, epochs=5, batch_size=batch_size, verbose=1, validation_split=0.1)"
      ],
      "execution_count": 0,
      "outputs": [
        {
          "output_type": "stream",
          "text": [
            "/usr/local/lib/python3.6/dist-packages/tensorflow/python/framework/indexed_slices.py:434: UserWarning: Converting sparse IndexedSlices to a dense Tensor of unknown shape. This may consume a large amount of memory.\n",
            "  \"Converting sparse IndexedSlices to a dense Tensor of unknown shape. \"\n"
          ],
          "name": "stderr"
        },
        {
          "output_type": "stream",
          "text": [
            "Train on 21022 samples, validate on 2336 samples\n",
            "Epoch 1/5\n",
            "21022/21022 [==============================] - 84s 4ms/step - loss: 0.8704 - accuracy: 0.5934 - val_loss: 0.7122 - val_accuracy: 0.6794\n",
            "Epoch 2/5\n",
            "21022/21022 [==============================] - 82s 4ms/step - loss: 0.7032 - accuracy: 0.6960 - val_loss: 0.6543 - val_accuracy: 0.7222\n",
            "Epoch 3/5\n",
            "21022/21022 [==============================] - 79s 4ms/step - loss: 0.6286 - accuracy: 0.7375 - val_loss: 0.6536 - val_accuracy: 0.7303\n",
            "Epoch 4/5\n",
            "21022/21022 [==============================] - 82s 4ms/step - loss: 0.5741 - accuracy: 0.7633 - val_loss: 0.6295 - val_accuracy: 0.7380\n",
            "Epoch 5/5\n",
            "21022/21022 [==============================] - 80s 4ms/step - loss: 0.5304 - accuracy: 0.7867 - val_loss: 0.6373 - val_accuracy: 0.7427\n"
          ],
          "name": "stdout"
        }
      ]
    },
    {
      "cell_type": "code",
      "metadata": {
        "id": "2H0XdxpYQTHp",
        "colab_type": "code",
        "colab": {}
      },
      "source": [
        "model.save('/content/drive/My Drive/DA_Project/Bi-LSTM4.h5')\n",
        "#from keras.models import load_model \n",
        "#model = load_model('/content/drive/My Drive/DA_Project/Bi-LSTM3.h5')"
      ],
      "execution_count": 0,
      "outputs": []
    },
    {
      "cell_type": "code",
      "metadata": {
        "id": "YiwWhvGMWHTv",
        "colab_type": "code",
        "outputId": "1a910ec5-95dd-45a1-8214-489db1d3d022",
        "colab": {
          "base_uri": "https://localhost:8080/",
          "height": 573
        }
      },
      "source": [
        "from matplotlib import pyplot as plt\n",
        "plt.plot(history.history['accuracy'])\n",
        "plt.plot(history.history['val_accuracy'])\n",
        "plt.title('model accuracy')\n",
        "plt.ylabel('accuracy')\n",
        "plt.xlabel('epoch')\n",
        "plt.legend(['train', 'validation'], loc='upper left')\n",
        "plt.show()\n",
        "\n",
        "plt.plot(history.history['loss'])\n",
        "plt.plot(history.history['val_loss'])\n",
        "plt.title('model loss')\n",
        "plt.ylabel('loss')\n",
        "plt.xlabel('epoch')\n",
        "plt.legend(['train', 'validation'], loc='upper left')\n",
        "plt.show()\n",
        "\n"
      ],
      "execution_count": 0,
      "outputs": [
        {
          "output_type": "display_data",
          "data": {
            "image/png": "[encoded data removed]",
            "text/plain": [
              "<Figure size 432x288 with 1 Axes>"
            ]
          },
          "metadata": {
            "tags": [],
            "needs_background": "light"
          }
        },
        {
          "output_type": "display_data",
          "data": {
            "image/png": "[encoded data removed]",
            "text/plain": [
              "<Figure size 432x288 with 1 Axes>"
            ]
          },
          "metadata": {
            "tags": [],
            "needs_background": "light"
          }
        }
      ]
    },
    {
      "cell_type": "code",
      "metadata": {
        "id": "AR4OKONhSWr6",
        "colab_type": "code",
        "outputId": "1d177191-4869-4685-e077-0ea7aeb93048",
        "colab": {
          "base_uri": "https://localhost:8080/",
          "height": 93
        }
      },
      "source": [
        "from operator import eq\n",
        "y_hat = model.predict(X_test)\n",
        "predicted = to_categorical(list(map(lambda x: np.argmax(x), y_hat)))\n",
        "not1hot_predicted = list(map(lambda x: np.argmax(x), predicted))\n",
        "not1hot_y_test = list(map(lambda x: np.argmax(x), y_test))\n",
        "print(not1hot_y_test)\n",
        "print(not1hot_predicted)\n",
        "#print(not1hot_predicted.size)\n",
        "#print(not1hot_y_test.size)\n",
        "total = len(not1hot_y_test)\n",
        "accuracy = sum(map(eq, not1hot_predicted, not1hot_y_test))/total\n",
        "print(accuracy)\n",
        "#accuracy_score(list(map(lambda x: np.argmax(x), y_test)), list(map(lambda x: np.argmax(x), y_hat)))"
      ],
      "execution_count": 0,
      "outputs": [
        {
          "output_type": "stream",
          "text": [
            "[2, 2, 2, 2, 1, 0, 2, 2, 1, 0, 1, 0, 1, 1, 2, 2, 1, 1, 1, 0, 2, 0, 0, 0, 1, 1, 1, 1, 0, 2, 0, 1, 1, 2, 2, 2, 1, 2, 2, 0, 2, 0, 0, 2, 2, 1, 2, 2, 1, 1, 2, 1, 2, 0, 2, 2, 1, 1, 2, 0, 1, 2, 2, 1, 1, 0, 0, 1, 1, 1, 1, 0, 1, 2, 0, 1, 2, 0, 1, 1, 0, 1, 1, 1, 2, 2, 0, 2, 1, 1, 2, 1, 0, 2, 1, 0, 0, 1, 0, 1, 2, 1, 0, 1, 2, 1, 1, 0, 1, 2, 1, 1, 2, 0, 2, 1, 2, 2, 1, 2, 0, 1, 1, 0, 2, 1, 0, 0, 2, 2, 0, 0, 2, 0, 1, 0, 2, 1, 1, 0, 2, 2, 1, 1, 2, 1, 0, 2, 1, 1, 0, 1, 1, 0, 2, 2, 0, 0, 1, 0, 1, 2, 2, 0, 1, 1, 2, 0, 0, 0, 1, 0, 2, 0, 1, 0, 1, 0, 1, 1, 1, 0, 1, 2, 1, 1, 1, 0, 1, 2, 1, 0, 2, 0, 2, 2, 2, 0, 1, 2, 2, 2, 1, 2, 0, 2, 1, 1, 1, 1, 0, 1, 0, 0, 0, 0, 0, 1, 2, 0, 0, 1, 0, 0, 0, 2, 1, 2, 1, 2, 0, 0, 1, 0, 2, 0, 1, 1, 2, 1, 1, 0, 2, 2, 0, 1, 2, 2, 0, 1, 1, 0, 2, 1, 1, 2, 2, 2, 0, 2, 1, 0, 1, 0, 0, 0, 2, 1, 2, 1, 1, 2, 1, 1, 1, 0, 2, 0, 2, 1, 1, 0, 1, 0, 1, 2, 2, 0, 1, 1, 1, 1, 1, 1, 2, 0, 1, 0, 0, 1, 0, 0, 0, 0, 2, 1, 2, 1, 0, 1, 1, 1, 1, 1, 2, 0, 0, 1, 2, 2, 1, 0, 1, 1, 1, 2, 0, 1, 2, 1, 2, 0, 0, 2, 0, 1, 1, 2, 0, 1, 1, 0, 0, 1, 0, 1, 1, 1, 1, 1, 1, 1, 2, 2, 0, 2, 0, 1, 1, 2, 1, 1, 1, 0, 2, 1, 2, 1, 1, 1, 0, 1, 1, 1, 1, 1, 0, 1, 2, 0, 2, 1, 2, 0, 2, 1, 1, 0, 2, 0, 1, 1, 1, 0, 2, 2, 0, 2, 1, 2, 0, 0, 0, 2, 0, 2, 2, 0, 1, 2, 2, 2, 2, 0, 1, 1, 2, 1, 1, 1, 1, 2, 1, 2, 1, 0, 1, 0, 1, 1, 0, 2, 1, 0, 0, 0, 2, 0, 0, 1, 0, 1, 1, 2, 0, 0, 2, 1, 2, 0, 1, 2, 0, 1, 0, 2, 1, 1, 0, 2, 1, 1, 2, 1, 0, 0, 1, 1, 2, 0, 2, 1, 2, 2, 2, 1, 0, 1, 1, 1, 2, 0, 0, 1, 0, 2, 2, 0, 0, 2, 0, 1, 0, 1, 0, 1, 2, 0, 0, 1, 2, 1, 2, 1, 0, 1, 1, 2, 2, 2, 0, 1, 2, 1, 2, 0, 0, 2, 1, 2, 0, 2, 1, 0, 1, 0, 0, 0, 2, 1, 0, 0, 1, 2, 1, 0, 2, 1, 0, 1, 2, 1, 2, 2, 0, 1, 1, 2, 0, 2, 1, 2, 2, 1, 1, 1, 1, 1, 2, 2, 1, 1, 0, 1, 1, 1, 1, 0, 0, 2, 1, 1, 0, 2, 0, 2, 1, 2, 0, 0, 1, 1, 0, 0, 2, 1, 1, 0, 1, 1, 1, 1, 2, 1, 1, 1, 1, 2, 2, 0, 2, 0, 2, 0, 1, 1, 1, 1, 2, 1, 0, 1, 1, 1, 2, 1, 1, 2, 0, 2, 2, 2, 0, 0, 1, 2, 2, 1, 0, 2, 0, 0, 2, 1, 2, 2, 2, 2, 2, 0, 2, 0, 0, 0, 2, 1, 1, 2, 1, 1, 2, 1, 2, 1, 1, 1, 1, 1, 1, 1, 0, 0, 0, 2, 0, 1, 1, 1, 1, 2, 2, 0, 1, 2, 1, 2, 2, 1, 0, 1, 1, 0, 1, 2, 2, 2, 1, 1, 0, 2, 2, 1, 0, 0, 0, 0, 1, 0, 2, 2, 2, 0, 2, 0, 1, 1, 1, 1, 0, 2, 0, 0, 2, 1, 1, 1, 0, 0, 2, 0, 2, 2, 0, 0, 0, 2, 1, 1, 2, 1, 1, 1, 2, 1, 0, 0, 2, 0, 1, 0, 2, 1, 2, 1, 0, 1, 0, 1, 2, 0, 2, 1, 0, 1, 2, 0, 0, 2, 1, 2, 0, 2, 2, 0, 1, 1, 1, 2, 1, 1, 0, 0, 1, 2, 2, 1, 2, 1, 1, 2, 1, 0, 0, 0, 2, 1, 0, 0, 1, 0, 2, 1, 1, 2, 2, 1, 0, 2, 0, 2, 0, 1, 1, 1, 0, 2, 1, 1, 0, 1, 1, 1, 1, 0, 2, 2, 1, 1, 1, 0, 0, 1, 2, 1, 0, 2, 0, 1, 2, 1, 2, 1, 2, 1, 2, 1, 0, 0, 2, 0, 0, 1, 1, 2, 1, 2, 0, 2, 2, 2, 2, 1, 2, 0, 0, 2, 1, 1, 2, 2, 1, 2, 1, 1, 2, 2, 2, 2, 1, 2, 1, 2, 1, 1, 1, 0, 1, 2, 0, 1, 2, 2, 2, 0, 2, 1, 1, 0, 0, 0, 1, 1, 0, 2, 1, 1, 2, 1, 2, 0, 0, 0, 2, 1, 0, 2, 1, 1, 0, 2, 1, 1, 1, 0, 0, 1, 0, 0, 1, 2, 0, 1, 0, 1, 2, 2, 1, 1, 2, 0, 1, 2, 2, 0, 0, 2, 1, 2, 1, 1, 0, 1, 1, 2, 2, 2, 2, 0, 2, 0, 2, 1, 0, 0, 0, 0, 1, 1, 1, 0, 1, 0, 1, 1, 2, 2, 0, 2, 2, 0, 0, 0, 1, 1, 0, 2, 0, 0, 1, 2, 1, 1, 0, 2, 2, 1, 1, 2, 1, 2, 0, 2, 1, 0, 1, 2, 2, 2, 2, 0, 2, 0, 2, 1, 1, 0, 2, 1, 0, 2, 1, 2, 0, 1, 1, 0, 1, 0, 0, 1, 2, 2, 0, 2, 0, 2, 1, 0, 1, 1, 2, 2, 2, 1, 1, 1, 0, 0, 1, 1, 1, 2, 2, 2, 2, 2, 1, 1, 0, 1, 0, 0, 1, 0, 0, 1, 2, 2, 1, 0, 0, 2, 1, 0, 0, 1, 1, 1, 2, 0, 1, 0, 2, 2, 1, 2, 1, 0, 1, 0, 1, 2, 1, 2, 2, 1, 0, 1, 2, 0, 1, 0, 2, 0, 1, 1, 2, 2, 2, 0, 2, 2, 0, 2, 1, 1, 2, 0, 1, 2, 2, 2, 2, 0, 2, 1, 1, 1, 2, 1, 1, 2, 1, 2, 1, 1, 2, 2, 2, 2, 1, 1, 0, 2, 1, 1, 0, 0, 0, 1, 0, 1, 0, 0, 1, 1, 1, 2, 1, 1, 1, 1, 2, 2, 1, 1, 1, 1, 0, 2, 1, 0, 2, 0, 1, 1, 2, 0, 1, 0, 2, 0, 1, 1, 1, 1, 0, 0, 2, 1, 1, 2, 1, 2, 1, 0, 0, 0, 2, 2, 1, 2, 1, 0, 0, 2, 1, 1, 1, 1, 2, 1, 0, 1, 0, 0, 0, 0, 0, 1, 0, 0, 2, 2, 2, 1, 2, 1, 1, 1, 2, 0, 0, 2, 2, 1, 0, 2, 0, 2, 2, 0, 0, 2, 0, 1, 0, 2, 2, 1, 1, 1, 2, 0, 2, 1, 1, 2, 1, 1, 1, 1, 2, 1, 1, 2, 2, 0, 1, 2, 2, 2, 0, 2, 1, 0, 0, 2, 0, 1, 1, 2, 1, 2, 0, 2, 1, 0, 2, 2, 1, 2, 1, 1, 1, 0, 1, 2, 1, 1, 0, 1, 2, 0, 2, 1, 1, 1, 1, 0, 2, 2, 1, 0, 2, 0, 1, 1, 1, 0, 0, 2, 2, 0, 1, 0, 0, 2, 2, 2, 1, 1, 0, 2, 1, 1, 1, 1, 0, 2, 0, 2, 1, 0, 2, 1, 1, 2, 1, 2, 0, 1, 1, 1, 1, 1, 0, 1, 0, 1, 1, 2, 1, 0, 2, 2, 1, 1, 0, 1, 1, 2, 1, 1, 1, 1, 0, 1, 0, 1, 2, 1, 0, 0, 2, 1, 1, 2, 1, 2, 0, 2, 1, 1, 2, 2, 1, 1, 2, 1, 1, 1, 1, 0, 0, 2, 1, 1, 2, 2, 2, 1, 2, 1, 2, 0, 1, 1, 2, 1, 2, 1, 1, 2, 0, 2, 1, 1, 2, 0, 2, 1, 1, 2, 0, 2, 1, 2, 2, 0, 1, 1, 0, 2, 2, 1, 1, 1, 0, 1, 0, 1, 1, 1, 0, 1, 0, 0, 2, 2, 1, 0, 2, 2, 1, 1, 2, 0, 0, 2, 2, 1, 1, 2, 2, 2, 2, 2, 2, 2, 1, 1, 1, 2, 2, 1, 0, 0, 0, 2, 1, 1, 1, 1, 0, 1, 1, 1, 0, 1, 1, 0, 1, 1, 0, 2, 1, 0, 1, 1, 2, 2, 0, 1, 0, 1, 1, 1, 1, 2, 1, 2, 1, 2, 0, 2, 0, 1, 1, 0, 1, 0, 0, 2, 0, 1, 1, 1, 2, 1, 1, 1, 2, 0, 2, 1, 0, 0, 0, 1, 1, 2, 1, 1, 0, 2, 2, 1, 1, 1, 1, 0, 1, 0, 1, 2, 2, 0, 1, 2, 1, 1, 1, 2, 1, 2, 2, 1, 1, 1, 2, 0, 2, 1, 2, 2, 2, 2, 1, 1, 2, 0, 0, 1, 2, 0, 1, 1, 2, 0, 2, 1, 0, 0, 0, 1, 1, 2, 1, 2, 2, 1, 0, 1, 1, 0, 1, 2, 1, 2, 0, 2, 2, 1, 2, 0, 2, 2, 2, 0, 0, 2, 2, 1, 1, 1, 1, 0, 2, 0, 0, 1, 0, 0, 0, 1, 0, 2, 2, 2, 1, 2, 1, 2, 0, 2, 2, 1, 0, 2, 1, 0, 1, 0, 0, 0, 0, 1, 1, 1, 1, 1, 2, 1, 2, 1, 0, 1, 1, 2, 1, 0, 0, 1, 1, 0, 0, 2, 2, 1, 1, 1, 1, 1, 1, 1, 1, 1, 1, 1, 1, 0, 1, 1, 1, 0, 0, 2, 0, 2, 1, 2, 2, 0, 1, 2, 2, 1, 0, 1, 2, 0, 1, 1, 1, 1, 0, 1, 0, 2, 0, 1, 2, 2, 0, 0, 1, 2, 1, 2, 1, 1, 1, 2, 2, 0, 0, 1, 0, 2, 1, 1, 1, 2, 2, 1, 0, 2, 0, 0, 2, 2, 0, 0, 2, 0, 1, 2, 0, 1, 2, 2, 0, 0, 1, 0, 1, 1, 1, 2, 2, 2, 0, 1, 0, 1, 1, 1, 2, 0, 2, 0, 1, 0, 2, 2, 2, 2, 2, 2, 1, 2, 1, 1, 1, 1, 2, 1, 0, 1, 1, 0, 0, 1, 2, 0, 2, 2, 1, 1, 0, 1, 0, 1, 1, 0, 1, 2, 0, 0, 2, 0, 2, 1, 0, 1, 2, 1, 0, 2, 2, 1, 2, 1, 0, 1, 0, 2, 1, 1, 2, 2, 2, 1, 1, 2, 1, 0, 1, 1, 1, 1, 2, 1, 2, 0, 0, 1, 2, 1, 1, 1, 1, 1, 1, 1, 0, 1, 1, 2, 2, 1, 1, 1, 2, 1, 1, 0, 1, 2, 2, 2, 2, 0, 1, 1, 1, 1, 0, 0, 1, 2, 0, 1, 1, 1, 2, 2, 1, 0, 1, 2, 2, 1, 1, 1, 1, 1, 2, 2, 2, 0, 2, 2, 1, 0, 1, 1, 0, 1, 2, 0, 2, 1, 0, 1, 0, 1, 2, 1, 0, 2, 0, 2, 2, 0, 1, 1, 1, 2, 1, 1, 1, 2, 0, 1, 2, 0, 1, 1, 2, 1, 0, 0, 2, 0, 0, 2, 1, 0, 0, 0, 2, 2, 1, 0, 2, 0, 2, 1, 0, 2, 1, 0, 0, 2, 2, 1, 1, 0, 1, 2, 0, 2, 0, 0, 2, 2, 2, 1, 0, 2, 1, 1, 2, 2, 0, 2, 0, 1, 1, 0, 2, 2, 2, 1, 1, 1, 1, 2, 2, 2, 2, 1, 1, 1, 1, 0, 0, 2, 1, 1, 1, 0, 2, 0, 2, 1, 1, 2, 1, 2, 0, 1, 1, 0, 1, 0, 1, 1, 1, 1, 1, 2, 0, 0, 1, 2, 1, 1, 0, 2, 0, 0, 2, 0, 0, 1, 2, 1, 1, 2, 0, 1, 0, 0, 1, 2, 0, 1, 2, 2, 1, 2, 1, 1, 2, 1, 2, 0, 2, 1, 1, 1, 2, 1, 0, 1, 1, 1, 1, 2, 2, 0, 2, 1, 0, 0, 0, 2, 1, 2, 1, 0, 1, 1, 1, 0, 2, 1, 0, 0, 1, 1, 1, 0, 2, 1, 2, 2, 1, 0, 2, 1, 2, 2, 1, 1, 1, 1, 1, 1, 2, 1, 2, 2, 2, 2, 1, 0, 0, 1, 1, 1, 1, 1, 1, 1, 2, 2, 0, 1, 1, 0, 0, 0, 0, 1, 2, 1, 0, 2, 0, 2, 2, 0, 0, 1, 2, 1, 1, 0, 0, 0, 0, 2, 1, 1, 0, 1, 2, 2, 0, 2, 0, 1, 0, 0, 1, 0, 2, 2, 0, 1, 0, 1, 0, 2, 2, 1, 1, 2, 1, 2, 1, 1, 0, 1, 1, 1, 2, 0, 0, 2, 2, 2, 1, 2, 1, 0, 1, 0, 1, 1, 0, 2, 2, 0, 0, 0, 1, 0, 1, 2, 2, 0, 2, 2, 1, 0, 0, 2, 1, 2, 0, 1, 1, 2, 1, 2, 1, 0, 2, 1, 2, 1, 0, 0, 0, 0, 2, 0, 0, 1, 2, 0, 1, 0, 0, 0, 0, 2, 1, 1, 2, 2, 2, 2, 2, 0, 0, 2, 1, 0, 2, 1, 1, 1, 1, 1, 1, 1, 1, 2, 1, 2, 2, 2, 0, 1, 2, 1, 1, 1, 2, 1, 0, 0, 2, 1, 1, 1, 1, 1, 0, 1, 0, 0, 1, 1, 0, 1, 1, 0, 1, 2, 1, 1, 1, 0, 0, 1, 0, 1, 1, 1, 0, 0, 1, 0, 2, 0, 2, 2, 0, 2, 2, 1, 1, 0, 1, 1, 2, 2, 0, 2, 2, 2, 0, 1, 2, 2, 0, 0, 1, 0, 0, 1, 0, 1, 1, 1, 0, 1, 1, 0, 1, 0, 1, 0, 2, 1, 2, 2, 0, 1, 0, 2, 1, 1, 0, 2, 2, 1, 2, 1, 0, 0, 1, 1, 2, 1, 0, 1, 1, 1, 0, 1, 2, 2, 1, 2, 0, 1, 0, 2, 0, 0, 0, 2, 1, 1, 2, 0, 2, 2, 1, 2, 1, 0, 1, 1, 1, 1, 1, 0, 2, 1, 1, 2, 1, 2, 1, 1, 1, 0, 1, 2, 1, 1, 2, 1, 2, 2, 2, 2, 2, 2, 2, 0, 2, 2, 1, 1, 0, 0, 2, 2, 2, 2, 0, 1, 2, 0, 2, 1, 1, 2, 0, 1, 1, 2, 1, 0, 0, 1, 2, 1, 0, 0, 0, 1, 1, 2, 2, 1, 2, 2, 2, 0, 2, 0, 1, 1, 0, 0, 1, 1, 2, 1, 0, 2, 0, 0, 2, 1, 0, 0, 1, 1, 1, 2, 1, 0, 0, 1, 0, 1, 2, 2, 0, 0, 0, 0, 1, 1, 1, 0, 0, 0, 1, 0, 1, 1, 2, 0, 1, 0, 1, 1, 2, 1, 1, 0, 0, 0, 2, 1, 0, 0, 0, 1, 1, 2, 0, 1, 2, 2, 2, 1, 1, 0, 1, 2, 2, 0, 1, 2, 0, 0, 2, 1, 2, 0, 1, 1, 1, 1, 2, 1, 1, 1, 2, 1, 1, 2, 2, 0, 0, 2, 2, 1, 2, 2, 0, 2, 1, 1, 2, 1, 2, 1, 0, 1, 2, 2, 0, 2, 0, 1, 1, 1, 2, 1, 2, 1, 1, 1, 1, 0, 0, 1, 1, 2, 0, 2, 2, 1, 1, 2, 0, 1, 2, 0, 2, 1, 2, 2, 2, 1, 2, 2, 0, 2, 2, 1, 0, 0, 0, 2, 2, 0, 1, 2, 2, 0, 2, 2, 2, 1, 2, 2, 1, 2, 2, 1, 0, 1, 1, 0, 0, 1, 2, 1, 2, 1, 1, 1, 1, 1, 1, 0, 1, 2, 2, 1, 1, 1, 0, 1, 1, 1, 0, 2, 1, 1, 0, 0, 1, 1, 0, 2, 2, 0, 2, 1, 2, 2, 1, 2, 1, 1, 2, 1, 0, 1, 2, 1, 2, 0, 2, 1, 0, 0, 1, 2, 0, 2, 0, 2, 2, 1, 2, 1, 1, 2, 0, 2, 1, 1, 1, 2, 1, 0, 1, 1, 0, 0, 1, 1, 0, 0, 1, 1, 0, 1, 2, 0, 1, 2, 1, 0, 1, 0, 1, 0, 1, 1, 2, 1, 2, 1, 1, 0, 2, 0, 1, 1, 2, 0, 2, 1, 0, 1, 2, 1, 0, 2, 0, 1, 1, 1, 2, 2, 0, 1, 1, 0, 0, 2, 2, 1, 2, 1, 1, 2, 1, 1, 2, 0, 0, 1, 2, 0, 0, 1, 1, 2, 0, 0, 1, 1, 0, 1, 2, 2, 0, 0, 2, 2, 1, 1, 1, 1, 2, 1, 2, 1, 0, 1, 1, 0, 2, 1, 0, 1, 0, 1, 2, 0, 0, 1, 0, 2, 2, 2, 1, 2, 0, 1, 1, 1, 1, 2, 2, 0, 0, 1, 1, 2, 1, 2, 1, 0, 1, 0, 2, 2, 2, 0, 2, 2, 0, 2, 0, 0, 1, 1, 1, 0, 1, 2, 0, 1, 0, 0, 2, 1, 0, 2, 2, 2, 1, 2, 1, 2, 1, 0, 1, 0, 1, 0, 0, 2, 0, 1, 2, 2, 1, 2, 0, 1, 1, 1, 0, 2, 2, 2, 0, 2, 1, 1, 1, 1, 0, 2, 1, 0, 0, 1, 1, 1, 2, 2, 1, 1, 0, 2, 2, 2, 2, 1, 1, 1, 2, 2, 2, 1, 1, 1, 1, 2, 2, 2, 1, 2, 2, 1, 0, 1, 1, 0, 0, 1, 1, 1, 1, 0, 1, 1, 2, 1, 0, 0, 1, 1, 1, 1, 2, 0, 0, 0, 1, 1, 1, 0, 2, 1, 2, 2, 0, 2, 1, 2, 1, 0, 2, 2, 2, 1, 1, 0, 0, 1, 0, 1, 1, 1, 2, 2, 0, 0, 2, 0, 0, 0, 2, 0, 0, 2, 0, 2, 1, 0, 0, 1, 0, 1, 2, 1, 0, 1, 0, 1, 0, 1, 0, 0, 1, 2, 0, 0, 2, 2, 0, 2, 1, 2, 2, 2, 2, 1, 1, 2, 2, 1, 1, 2, 0, 1, 0, 1, 1, 2, 2, 2, 1, 1, 2, 2, 0, 2, 0, 1, 0, 1, 0, 1, 2, 2, 1, 2, 2, 2, 1, 1, 1, 2, 2, 2, 0, 1, 1, 1, 1, 1, 1, 1, 2, 2, 2, 2, 0, 0, 2, 1, 1, 2, 1, 0, 1, 0, 0, 1, 0, 1, 0, 1, 1, 2, 1, 0, 0, 1, 0, 2, 1, 1, 2, 1, 2, 1, 0, 1, 2, 1, 2, 0, 0, 0, 2, 0, 0, 1, 2, 1, 0, 0, 0, 1, 0, 2, 0, 2, 0, 2, 0, 2, 1, 2, 2, 0, 2, 0, 0, 0, 2, 1, 2, 1, 2, 2, 0, 2, 2, 0, 1, 1, 0, 1, 1, 1, 2, 0, 2, 2, 2, 1, 1, 2, 2, 0, 1, 1, 0, 1, 1, 0, 1, 2, 0, 1, 0, 1, 1, 0, 1, 1, 2, 1, 2, 1, 2, 0, 1, 0, 2, 1, 0, 0, 1, 1, 2, 0, 2, 2, 0, 0, 2, 0, 0, 2, 1, 1, 1, 1, 0, 1, 1, 0, 2, 0, 0, 1, 1, 2, 1, 0, 1, 0, 1, 1, 2, 0, 0, 1, 2, 0, 2, 1, 2, 0, 2, 2, 1, 2, 0, 2, 0, 2, 0, 1, 0, 2, 0, 1, 2, 1, 0, 1, 2, 0, 1, 0, 0, 1, 2, 2, 2, 1, 2, 1, 2, 0, 2, 1, 0, 2, 2, 2, 0, 1, 0, 2, 0, 0, 0, 1, 2, 1, 2, 0, 1, 2, 2, 1, 0, 1, 1, 2, 1, 1, 2, 1, 2, 2, 0, 1, 0, 1, 0, 2, 0, 2, 0, 2, 0, 0, 1, 2, 0, 0, 1, 0, 1, 1, 1, 2, 2, 1, 2, 2, 2, 1, 2, 0, 1, 0, 2, 2, 0, 1, 1, 2, 0, 2, 1, 2, 1, 0, 2, 2, 0, 2, 0, 1, 1, 0, 2, 1, 1, 0, 2, 0, 0, 0, 0, 2, 1, 1, 1, 1, 2, 2, 0, 1, 2, 0, 0, 0, 1, 0, 1, 2, 0, 2, 0, 2, 1, 0, 2, 2, 2, 0, 2, 0, 2, 2, 2, 0, 2, 1, 2, 1, 0, 1, 0, 0, 0, 2, 0, 0, 1, 0, 2, 2, 1, 1, 1, 2, 0, 2, 2, 1, 1, 1, 2, 1, 2, 2, 1, 1, 0, 2, 2, 1, 1, 1, 0, 0, 1, 1, 2, 0, 1, 0, 0, 1, 2, 0, 2, 2, 1, 0, 0, 0, 0, 1, 0, 1, 1, 0, 2, 0, 2, 1, 1, 0, 2, 2, 2, 2, 1, 2, 1, 1, 0, 0, 0, 0, 1, 1, 2, 1, 0, 2, 1, 0, 0, 1, 0, 0, 1, 0, 1]\n",
            "[1, 1, 1, 1, 1, 0, 2, 1, 1, 1, 1, 0, 1, 1, 2, 2, 1, 1, 0, 0, 2, 0, 1, 0, 1, 1, 0, 1, 0, 2, 0, 1, 1, 1, 1, 2, 1, 2, 2, 0, 2, 2, 0, 2, 2, 1, 1, 2, 1, 1, 2, 1, 2, 0, 2, 2, 1, 1, 2, 1, 1, 2, 1, 0, 1, 0, 0, 0, 1, 1, 1, 0, 1, 0, 0, 2, 0, 1, 2, 1, 0, 1, 1, 1, 2, 2, 0, 1, 0, 1, 2, 1, 0, 2, 2, 1, 0, 1, 1, 1, 1, 1, 0, 1, 2, 1, 1, 1, 1, 2, 1, 0, 2, 0, 2, 1, 2, 1, 1, 2, 0, 1, 1, 1, 2, 1, 0, 0, 1, 2, 1, 0, 1, 0, 0, 0, 2, 1, 1, 0, 2, 2, 1, 0, 2, 1, 0, 2, 1, 2, 0, 0, 1, 0, 2, 2, 0, 1, 1, 0, 1, 2, 2, 0, 1, 0, 1, 0, 0, 0, 1, 0, 2, 0, 0, 0, 0, 1, 1, 1, 1, 0, 0, 2, 0, 1, 1, 0, 1, 0, 1, 1, 2, 0, 0, 2, 2, 0, 1, 2, 2, 2, 1, 2, 0, 2, 0, 1, 2, 1, 1, 1, 0, 0, 0, 1, 0, 0, 2, 1, 0, 1, 1, 0, 0, 2, 2, 2, 1, 2, 0, 0, 1, 0, 2, 1, 0, 0, 2, 1, 1, 0, 2, 2, 1, 2, 2, 2, 0, 1, 1, 0, 2, 1, 1, 2, 2, 1, 1, 2, 0, 0, 0, 0, 0, 0, 1, 1, 2, 1, 1, 1, 0, 0, 1, 0, 2, 0, 2, 1, 0, 0, 1, 0, 2, 1, 2, 0, 0, 1, 0, 1, 1, 1, 2, 1, 1, 0, 1, 1, 1, 0, 0, 0, 2, 0, 2, 0, 1, 0, 1, 1, 1, 1, 2, 0, 0, 1, 1, 1, 1, 1, 1, 1, 2, 2, 0, 2, 2, 1, 1, 0, 1, 2, 0, 1, 1, 1, 1, 1, 0, 0, 0, 0, 0, 1, 1, 1, 1, 1, 1, 0, 2, 2, 1, 2, 0, 0, 1, 2, 1, 0, 1, 1, 2, 1, 2, 0, 1, 0, 0, 1, 1, 1, 1, 1, 0, 1, 2, 0, 2, 0, 2, 0, 2, 1, 1, 1, 2, 1, 1, 1, 1, 0, 1, 2, 1, 2, 1, 1, 1, 0, 0, 1, 1, 2, 2, 1, 1, 2, 2, 2, 0, 0, 1, 1, 2, 1, 0, 1, 1, 2, 1, 1, 1, 0, 1, 0, 0, 1, 2, 1, 0, 1, 0, 0, 2, 1, 0, 1, 0, 0, 0, 1, 1, 0, 2, 1, 2, 0, 2, 2, 0, 1, 1, 0, 1, 1, 1, 2, 1, 2, 0, 1, 0, 0, 1, 1, 2, 1, 2, 1, 2, 2, 2, 0, 1, 0, 1, 1, 2, 0, 2, 0, 0, 2, 2, 0, 0, 2, 0, 1, 0, 1, 0, 1, 2, 0, 0, 0, 2, 1, 2, 2, 0, 1, 0, 2, 1, 2, 1, 1, 2, 2, 2, 0, 0, 2, 0, 2, 0, 2, 2, 0, 1, 0, 0, 1, 2, 1, 1, 0, 1, 2, 1, 0, 2, 0, 1, 1, 1, 1, 2, 2, 0, 1, 1, 2, 0, 2, 1, 2, 2, 0, 1, 2, 2, 1, 1, 2, 1, 1, 0, 1, 1, 2, 1, 0, 0, 2, 1, 1, 1, 2, 0, 2, 1, 1, 1, 0, 1, 1, 0, 0, 2, 1, 1, 0, 1, 2, 1, 1, 2, 1, 1, 1, 2, 2, 2, 0, 1, 1, 1, 0, 1, 1, 1, 1, 2, 1, 0, 1, 1, 0, 2, 2, 2, 2, 1, 2, 2, 2, 0, 0, 1, 1, 2, 1, 0, 2, 0, 0, 0, 0, 2, 1, 2, 2, 2, 0, 2, 0, 1, 1, 2, 1, 0, 2, 1, 2, 0, 1, 2, 1, 0, 1, 1, 2, 1, 1, 0, 1, 0, 2, 0, 1, 2, 1, 0, 2, 1, 0, 2, 2, 1, 2, 2, 1, 1, 1, 1, 0, 1, 2, 2, 2, 2, 2, 0, 2, 2, 0, 0, 0, 1, 0, 2, 0, 2, 1, 2, 0, 2, 2, 2, 1, 1, 1, 0, 2, 0, 1, 1, 1, 2, 0, 0, 1, 2, 0, 2, 1, 0, 0, 0, 2, 1, 2, 2, 0, 1, 1, 2, 1, 0, 1, 1, 0, 1, 0, 1, 2, 2, 2, 0, 1, 1, 1, 2, 0, 1, 1, 0, 1, 2, 0, 0, 2, 1, 1, 1, 2, 2, 0, 2, 1, 2, 2, 1, 2, 0, 0, 1, 2, 2, 1, 1, 1, 0, 2, 1, 0, 0, 0, 2, 1, 0, 0, 1, 0, 0, 1, 2, 1, 2, 1, 0, 1, 0, 2, 0, 1, 1, 1, 0, 2, 1, 1, 0, 1, 1, 1, 1, 0, 1, 1, 1, 1, 1, 0, 0, 1, 1, 0, 1, 0, 0, 2, 2, 1, 1, 1, 2, 1, 2, 1, 0, 0, 2, 0, 1, 1, 0, 0, 1, 2, 0, 2, 2, 1, 2, 1, 1, 1, 0, 2, 1, 1, 2, 2, 1, 1, 1, 1, 2, 1, 1, 2, 1, 2, 1, 2, 1, 0, 1, 0, 1, 2, 1, 1, 2, 2, 1, 0, 2, 1, 1, 0, 0, 0, 1, 1, 0, 2, 1, 1, 2, 2, 2, 0, 0, 1, 2, 0, 1, 2, 1, 1, 0, 2, 0, 1, 1, 0, 2, 1, 0, 0, 2, 1, 0, 2, 0, 1, 2, 2, 1, 1, 2, 1, 1, 2, 2, 0, 1, 2, 1, 2, 1, 1, 0, 1, 1, 2, 1, 1, 1, 1, 2, 0, 2, 1, 1, 0, 0, 0, 1, 1, 2, 1, 1, 0, 1, 0, 2, 1, 0, 1, 2, 0, 0, 0, 1, 1, 1, 2, 0, 0, 1, 2, 2, 1, 0, 2, 1, 0, 1, 2, 1, 1, 0, 2, 1, 1, 1, 2, 2, 1, 2, 0, 2, 0, 2, 1, 1, 0, 2, 1, 2, 2, 1, 1, 0, 1, 0, 0, 1, 0, 0, 1, 2, 1, 0, 2, 0, 2, 1, 0, 1, 1, 2, 2, 2, 1, 1, 1, 2, 1, 1, 1, 1, 2, 2, 2, 2, 2, 1, 1, 0, 1, 1, 0, 1, 0, 0, 1, 2, 2, 1, 0, 0, 1, 1, 0, 0, 1, 0, 1, 2, 0, 0, 1, 0, 2, 1, 2, 1, 0, 1, 0, 1, 2, 1, 2, 2, 1, 0, 1, 2, 0, 1, 0, 0, 0, 1, 1, 1, 1, 2, 0, 2, 2, 0, 2, 0, 1, 0, 0, 2, 2, 2, 2, 2, 0, 2, 2, 1, 1, 2, 1, 1, 2, 2, 2, 1, 1, 2, 1, 2, 2, 1, 2, 1, 2, 1, 1, 1, 1, 0, 1, 0, 1, 0, 0, 1, 1, 1, 2, 1, 1, 1, 1, 2, 2, 0, 2, 2, 1, 0, 2, 0, 0, 2, 0, 1, 1, 0, 0, 2, 0, 2, 0, 1, 1, 1, 1, 0, 0, 2, 2, 1, 1, 0, 1, 1, 0, 0, 0, 2, 2, 0, 2, 0, 0, 0, 2, 1, 1, 1, 1, 2, 1, 0, 0, 1, 0, 0, 0, 1, 0, 1, 0, 1, 2, 2, 0, 2, 1, 0, 1, 2, 0, 0, 1, 2, 1, 0, 2, 1, 0, 1, 0, 1, 1, 0, 0, 1, 2, 2, 0, 1, 1, 2, 0, 2, 0, 2, 2, 0, 1, 0, 0, 2, 1, 1, 1, 1, 0, 1, 2, 2, 2, 0, 2, 1, 0, 1, 2, 0, 1, 0, 1, 1, 2, 1, 2, 2, 2, 1, 2, 1, 2, 1, 0, 0, 0, 2, 2, 1, 0, 0, 1, 1, 0, 2, 1, 1, 1, 0, 0, 2, 2, 1, 1, 1, 0, 2, 1, 0, 2, 1, 0, 0, 0, 1, 0, 0, 1, 2, 1, 1, 1, 1, 2, 1, 0, 1, 1, 1, 2, 0, 2, 1, 0, 1, 1, 1, 2, 0, 0, 1, 1, 1, 1, 1, 0, 0, 1, 1, 0, 1, 2, 1, 1, 2, 2, 0, 2, 0, 1, 1, 2, 1, 1, 1, 1, 0, 1, 1, 1, 1, 1, 0, 0, 1, 1, 1, 2, 2, 2, 1, 2, 1, 1, 2, 2, 1, 0, 1, 1, 0, 1, 0, 0, 0, 2, 0, 1, 2, 2, 2, 1, 2, 0, 1, 1, 1, 1, 2, 2, 2, 0, 1, 1, 0, 2, 1, 0, 1, 0, 1, 1, 1, 2, 0, 2, 0, 1, 2, 0, 1, 0, 1, 2, 1, 1, 2, 1, 1, 1, 0, 1, 1, 1, 0, 1, 0, 0, 2, 0, 1, 1, 2, 2, 2, 1, 2, 0, 0, 2, 2, 1, 0, 2, 2, 2, 1, 0, 0, 2, 1, 1, 0, 1, 2, 1, 0, 0, 0, 2, 1, 1, 1, 1, 0, 1, 1, 1, 0, 0, 1, 0, 1, 1, 1, 2, 1, 0, 1, 1, 2, 2, 0, 2, 1, 1, 0, 1, 1, 2, 1, 2, 1, 2, 0, 2, 0, 0, 2, 0, 1, 0, 0, 2, 0, 1, 1, 1, 1, 1, 2, 1, 1, 0, 2, 2, 1, 0, 0, 0, 1, 2, 1, 0, 0, 2, 2, 1, 1, 2, 0, 0, 1, 1, 1, 2, 0, 0, 1, 1, 1, 2, 1, 2, 1, 2, 1, 1, 1, 1, 2, 0, 2, 1, 2, 2, 2, 2, 0, 1, 1, 0, 0, 1, 2, 0, 1, 1, 2, 0, 2, 1, 1, 1, 0, 1, 1, 2, 0, 2, 1, 2, 1, 2, 1, 0, 1, 2, 1, 1, 0, 1, 2, 1, 2, 0, 2, 2, 2, 1, 1, 2, 2, 1, 1, 1, 1, 0, 1, 0, 1, 0, 2, 0, 0, 1, 1, 2, 1, 2, 1, 0, 0, 2, 0, 1, 2, 1, 0, 2, 0, 0, 1, 0, 0, 0, 0, 1, 1, 1, 1, 0, 2, 1, 1, 1, 1, 1, 1, 2, 1, 1, 0, 1, 1, 0, 0, 2, 2, 1, 1, 1, 1, 1, 1, 2, 1, 0, 1, 1, 1, 0, 0, 2, 0, 1, 0, 1, 0, 2, 1, 2, 1, 1, 1, 2, 1, 1, 1, 0, 1, 0, 1, 1, 1, 1, 0, 1, 0, 2, 1, 1, 2, 2, 1, 0, 1, 2, 1, 1, 2, 1, 1, 1, 2, 0, 0, 1, 0, 2, 1, 1, 1, 2, 1, 1, 0, 1, 1, 1, 2, 1, 0, 0, 1, 0, 1, 2, 0, 1, 2, 2, 0, 0, 2, 0, 1, 1, 1, 0, 1, 2, 0, 1, 1, 0, 2, 1, 2, 0, 2, 0, 1, 0, 2, 1, 1, 2, 2, 2, 1, 2, 1, 1, 1, 2, 2, 1, 1, 1, 0, 0, 0, 1, 2, 1, 0, 2, 1, 1, 0, 2, 1, 2, 1, 0, 1, 1, 0, 0, 2, 0, 2, 1, 0, 2, 1, 1, 0, 2, 2, 1, 2, 1, 0, 1, 1, 2, 0, 1, 1, 2, 2, 1, 2, 2, 1, 0, 1, 0, 1, 2, 2, 1, 1, 1, 0, 0, 2, 1, 0, 1, 1, 1, 1, 1, 1, 0, 1, 2, 1, 2, 1, 1, 2, 0, 1, 1, 0, 1, 2, 2, 2, 1, 1, 1, 1, 1, 0, 0, 0, 2, 1, 1, 1, 1, 2, 2, 2, 0, 1, 2, 0, 2, 2, 1, 2, 1, 2, 2, 2, 0, 1, 2, 1, 1, 0, 0, 1, 0, 1, 0, 1, 2, 0, 1, 0, 1, 2, 1, 0, 2, 0, 2, 2, 0, 2, 1, 1, 2, 0, 1, 1, 2, 0, 1, 1, 0, 1, 1, 2, 2, 0, 0, 2, 0, 0, 2, 1, 0, 0, 1, 2, 2, 0, 0, 2, 1, 2, 1, 0, 0, 1, 0, 0, 1, 1, 1, 0, 0, 0, 1, 0, 2, 1, 0, 2, 2, 2, 1, 0, 2, 1, 1, 1, 2, 0, 1, 0, 1, 1, 0, 2, 2, 2, 1, 1, 0, 1, 2, 2, 2, 2, 1, 1, 1, 1, 1, 0, 2, 1, 2, 1, 0, 2, 1, 2, 2, 0, 2, 0, 2, 0, 1, 2, 0, 1, 0, 1, 1, 1, 1, 1, 2, 0, 0, 1, 2, 1, 1, 1, 1, 0, 0, 0, 0, 0, 1, 2, 1, 1, 2, 0, 1, 0, 0, 1, 1, 0, 1, 2, 1, 1, 2, 1, 1, 1, 0, 2, 0, 2, 1, 2, 1, 2, 2, 0, 2, 1, 1, 1, 2, 2, 0, 1, 1, 1, 0, 1, 2, 1, 1, 1, 0, 1, 1, 0, 1, 2, 2, 0, 0, 0, 1, 1, 0, 2, 1, 2, 2, 1, 0, 2, 1, 2, 1, 2, 1, 1, 1, 1, 1, 2, 1, 1, 1, 2, 1, 1, 0, 0, 1, 1, 0, 1, 1, 1, 1, 2, 2, 0, 2, 2, 0, 0, 0, 1, 1, 2, 1, 0, 2, 0, 2, 2, 0, 1, 1, 2, 1, 2, 0, 0, 0, 0, 2, 1, 1, 0, 1, 1, 0, 1, 0, 0, 1, 0, 0, 0, 0, 1, 1, 1, 2, 0, 0, 0, 2, 2, 1, 2, 2, 0, 2, 1, 1, 0, 0, 1, 0, 2, 0, 1, 1, 1, 2, 1, 2, 0, 0, 1, 0, 1, 1, 0, 2, 2, 0, 1, 0, 1, 1, 1, 2, 2, 0, 1, 2, 1, 1, 0, 0, 1, 2, 1, 1, 1, 2, 1, 2, 0, 0, 2, 2, 0, 1, 0, 0, 0, 0, 1, 1, 1, 1, 2, 0, 0, 0, 0, 0, 2, 2, 1, 1, 2, 2, 2, 1, 2, 1, 0, 1, 0, 0, 2, 1, 0, 1, 1, 1, 1, 1, 2, 2, 1, 2, 2, 1, 0, 1, 1, 1, 1, 1, 2, 0, 1, 0, 2, 1, 1, 2, 1, 1, 0, 1, 0, 1, 1, 0, 0, 1, 1, 1, 1, 2, 1, 2, 1, 1, 0, 0, 0, 1, 1, 2, 0, 0, 1, 0, 2, 1, 2, 1, 0, 2, 2, 1, 1, 0, 1, 0, 2, 2, 0, 2, 2, 2, 0, 1, 2, 2, 1, 0, 1, 1, 0, 1, 1, 1, 2, 1, 0, 0, 1, 1, 1, 0, 1, 1, 2, 1, 2, 2, 0, 1, 0, 2, 1, 2, 0, 1, 2, 1, 2, 2, 1, 1, 1, 1, 2, 1, 0, 1, 0, 2, 1, 1, 1, 2, 1, 2, 0, 1, 0, 2, 1, 0, 1, 2, 0, 2, 2, 1, 2, 2, 2, 1, 1, 0, 2, 1, 1, 1, 1, 1, 2, 1, 2, 1, 0, 2, 1, 1, 1, 1, 1, 2, 1, 1, 2, 1, 2, 1, 1, 2, 2, 1, 1, 2, 0, 1, 1, 1, 1, 1, 2, 2, 2, 2, 0, 1, 2, 0, 2, 1, 2, 1, 0, 0, 1, 2, 1, 0, 0, 1, 2, 1, 0, 0, 0, 1, 1, 2, 2, 1, 2, 1, 2, 0, 2, 1, 1, 1, 0, 1, 1, 1, 2, 1, 1, 2, 1, 0, 2, 0, 0, 0, 1, 1, 1, 2, 1, 0, 0, 1, 2, 0, 2, 2, 0, 0, 0, 0, 1, 1, 1, 0, 1, 0, 1, 0, 1, 1, 2, 0, 2, 1, 1, 2, 2, 1, 1, 0, 0, 1, 2, 1, 0, 0, 0, 1, 0, 2, 1, 1, 2, 1, 2, 1, 1, 0, 1, 2, 2, 0, 1, 2, 2, 1, 2, 2, 2, 1, 1, 2, 0, 2, 2, 0, 1, 1, 2, 2, 1, 1, 2, 1, 1, 2, 1, 1, 2, 2, 0, 1, 1, 1, 1, 1, 2, 0, 0, 1, 2, 2, 0, 2, 0, 1, 1, 0, 2, 1, 2, 0, 1, 0, 1, 1, 0, 1, 1, 2, 0, 2, 2, 2, 1, 2, 0, 1, 1, 0, 2, 1, 2, 2, 2, 1, 2, 2, 0, 2, 2, 1, 0, 0, 0, 0, 2, 0, 1, 2, 2, 1, 2, 2, 2, 1, 2, 1, 1, 2, 2, 1, 0, 1, 1, 0, 0, 2, 2, 1, 2, 0, 1, 1, 0, 1, 1, 0, 1, 2, 2, 1, 0, 1, 0, 1, 1, 1, 0, 2, 1, 1, 0, 0, 0, 1, 0, 2, 2, 0, 2, 1, 2, 2, 1, 2, 1, 1, 2, 1, 0, 1, 2, 1, 0, 0, 1, 1, 0, 0, 1, 2, 0, 2, 1, 1, 2, 1, 2, 1, 1, 2, 0, 2, 2, 1, 2, 2, 1, 0, 0, 0, 1, 1, 1, 2, 1, 0, 1, 2, 0, 1, 2, 0, 1, 2, 1, 0, 1, 0, 1, 0, 1, 1, 2, 1, 1, 1, 2, 0, 2, 1, 2, 0, 2, 0, 2, 1, 0, 1, 2, 1, 0, 1, 1, 1, 1, 2, 2, 2, 0, 1, 1, 0, 0, 1, 2, 0, 2, 2, 0, 2, 1, 1, 1, 1, 0, 0, 2, 0, 0, 1, 0, 1, 0, 0, 0, 1, 0, 1, 2, 2, 0, 0, 2, 2, 1, 0, 0, 0, 2, 1, 2, 0, 1, 0, 1, 0, 2, 1, 0, 1, 0, 1, 2, 0, 0, 1, 0, 2, 1, 1, 1, 2, 0, 0, 0, 1, 1, 2, 1, 0, 0, 1, 1, 2, 1, 1, 1, 0, 1, 0, 2, 2, 2, 1, 1, 2, 0, 2, 0, 1, 1, 1, 2, 0, 1, 2, 1, 1, 1, 0, 2, 1, 0, 2, 2, 2, 1, 2, 1, 1, 1, 0, 1, 0, 2, 0, 0, 2, 1, 1, 2, 2, 2, 2, 1, 1, 1, 0, 0, 2, 2, 1, 0, 2, 1, 1, 1, 1, 0, 2, 1, 0, 1, 1, 1, 0, 2, 2, 1, 2, 0, 2, 1, 2, 1, 1, 1, 0, 2, 2, 1, 1, 1, 1, 1, 2, 2, 2, 1, 2, 2, 2, 0, 1, 1, 1, 0, 1, 1, 0, 1, 0, 0, 1, 2, 1, 1, 1, 1, 1, 0, 1, 2, 0, 0, 0, 1, 0, 0, 0, 0, 1, 2, 2, 0, 1, 1, 2, 2, 1, 1, 2, 2, 2, 1, 0, 0, 1, 0, 1, 1, 1, 2, 2, 0, 0, 2, 0, 0, 0, 2, 1, 1, 2, 0, 1, 1, 0, 1, 0, 2, 1, 2, 1, 0, 1, 0, 1, 0, 2, 1, 1, 1, 2, 0, 0, 1, 2, 1, 2, 1, 1, 1, 0, 2, 1, 1, 2, 2, 0, 1, 1, 0, 1, 0, 1, 2, 1, 2, 2, 1, 0, 2, 2, 1, 1, 0, 1, 0, 1, 1, 1, 2, 2, 1, 2, 2, 0, 2, 1, 2, 2, 2, 2, 0, 1, 1, 1, 1, 1, 1, 2, 1, 2, 2, 2, 0, 0, 2, 1, 1, 2, 0, 0, 1, 1, 0, 1, 0, 1, 0, 1, 1, 2, 1, 0, 0, 2, 1, 2, 1, 1, 2, 1, 2, 1, 0, 0, 2, 1, 2, 1, 2, 1, 2, 0, 1, 1, 1, 1, 1, 0, 1, 1, 0, 0, 0, 2, 1, 2, 0, 2, 1, 2, 2, 0, 2, 0, 0, 0, 0, 1, 2, 1, 1, 2, 0, 2, 2, 2, 1, 0, 1, 1, 1, 0, 2, 1, 2, 2, 2, 1, 0, 2, 2, 1, 1, 1, 0, 1, 1, 0, 1, 2, 1, 1, 0, 1, 1, 0, 1, 2, 2, 1, 2, 0, 2, 0, 1, 0, 1, 2, 0, 0, 1, 1, 1, 0, 2, 1, 0, 0, 2, 0, 0, 2, 0, 0, 0, 0, 0, 1, 1, 0, 1, 0, 0, 1, 0, 1, 2, 0, 1, 0, 1, 1, 2, 0, 0, 1, 2, 0, 1, 1, 2, 0, 2, 1, 1, 2, 0, 1, 0, 2, 0, 1, 0, 2, 1, 1, 1, 1, 1, 0, 2, 0, 0, 0, 1, 1, 1, 1, 2, 1, 1, 2, 2, 0, 2, 1, 0, 2, 2, 2, 1, 1, 1, 1, 1, 0, 0, 1, 2, 1, 2, 2, 1, 2, 2, 1, 1, 0, 0, 2, 1, 1, 2, 1, 2, 2, 0, 1, 0, 1, 2, 2, 0, 2, 0, 2, 0, 0, 0, 2, 0, 1, 0, 1, 1, 1, 1, 2, 2, 1, 2, 2, 2, 1, 2, 1, 0, 0, 2, 2, 0, 1, 1, 2, 0, 2, 1, 2, 1, 1, 1, 2, 0, 2, 0, 1, 1, 0, 2, 1, 1, 0, 2, 0, 0, 0, 0, 2, 1, 1, 2, 1, 2, 2, 0, 1, 2, 0, 1, 0, 2, 0, 1, 1, 1, 2, 0, 2, 1, 1, 2, 2, 2, 0, 1, 1, 2, 1, 2, 0, 2, 1, 2, 1, 0, 1, 0, 0, 0, 2, 1, 0, 1, 0, 2, 2, 1, 1, 1, 0, 0, 1, 2, 1, 0, 0, 2, 1, 2, 2, 1, 1, 0, 2, 2, 1, 1, 1, 0, 0, 1, 0, 2, 0, 1, 0, 0, 1, 2, 0, 2, 2, 1, 1, 0, 0, 0, 1, 0, 2, 1, 0, 2, 0, 2, 0, 1, 0, 1, 2, 1, 2, 2, 2, 1, 1, 1, 0, 1, 0, 0, 2, 2, 1, 1, 0, 1, 0, 0, 1, 0, 0, 1, 0, 1]\n",
            "0.7408769448373409\n"
          ],
          "name": "stdout"
        }
      ]
    },
    {
      "cell_type": "code",
      "metadata": {
        "id": "5a74QH3_S-TX",
        "colab_type": "code",
        "outputId": "adfd2064-6a92-4ef5-b56b-d536fa7be3ab",
        "colab": {
          "base_uri": "https://localhost:8080/",
          "height": 73
        }
      },
      "source": [
        "not1hot_predicted = list(map(lambda x: np.argmax(x), predicted))\n",
        "not1hot_y_test = list(map(lambda x: np.argmax(x), y_test))\n",
        "conf = confusion_matrix(not1hot_y_test, not1hot_predicted)\n",
        "conf"
      ],
      "execution_count": 0,
      "outputs": [
        {
          "output_type": "execute_result",
          "data": {
            "text/plain": [
              "array([[ 737,  245,   19],\n",
              "       [ 227, 1050,  153],\n",
              "       [  44,  228,  832]])"
            ]
          },
          "metadata": {
            "tags": []
          },
          "execution_count": 44
        }
      ]
    },
    {
      "cell_type": "code",
      "metadata": {
        "id": "ttnMRuYcTWvj",
        "colab_type": "code",
        "outputId": "324f513a-298d-443d-eaa7-6d20b17c1ce7",
        "colab": {
          "base_uri": "https://localhost:8080/",
          "height": 73
        }
      },
      "source": [
        "from sklearn.metrics import f1_score\n",
        "\n",
        "print(f1_score(not1hot_y_test, not1hot_predicted, average='micro'))\n",
        "print(f1_score(not1hot_y_test, not1hot_predicted, average='macro'))\n",
        "print(f1_score(not1hot_y_test, not1hot_predicted, average='weighted'))"
      ],
      "execution_count": 0,
      "outputs": [
        {
          "output_type": "stream",
          "text": [
            "0.7408769448373409\n",
            "0.7447377945866435\n",
            "0.7419611541946355\n"
          ],
          "name": "stdout"
        }
      ]
    },
    {
      "cell_type": "code",
      "metadata": {
        "id": "LKLuNPEkTW7b",
        "colab_type": "code",
        "outputId": "5cb35fbf-822a-41eb-aa66-4c171f171aba",
        "colab": {
          "base_uri": "https://localhost:8080/",
          "height": 73
        }
      },
      "source": [
        "from sklearn.metrics import jaccard_score\n",
        "\n",
        "print(jaccard_score(not1hot_y_test, not1hot_predicted, average='micro'))\n",
        "print(jaccard_score(not1hot_y_test, not1hot_predicted, average='macro'))\n",
        "print(jaccard_score(not1hot_y_test, not1hot_predicted, average='weighted'))\n"
      ],
      "execution_count": 0,
      "outputs": [
        {
          "output_type": "stream",
          "text": [
            "0.5884070995281959\n",
            "0.594400170542701\n",
            "0.5909048908232024\n"
          ],
          "name": "stdout"
        }
      ]
    }
  ]
}