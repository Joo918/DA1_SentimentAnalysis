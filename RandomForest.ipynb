{
  "nbformat": 4,
  "nbformat_minor": 0,
  "metadata": {
    "colab": {
      "name": "RandomForest.ipynb",
      "provenance": []
    },
    "kernelspec": {
      "name": "python3",
      "display_name": "Python 3"
    }
  },
  "cells": [
    {
      "cell_type": "code",
      "metadata": {
        "id": "TqaJfTNsr-RT",
        "colab_type": "code",
        "colab": {}
      },
      "source": [
        "import os\n",
        "from time import time\n",
        "\n",
        "import pandas as pd\n",
        "import numpy as np\n",
        "import matplotlib.pyplot as plt \n",
        "\n",
        "# for classification\n",
        "from sklearn.ensemble import RandomForestClassifier\n",
        "\n",
        "# for cross validation\n",
        "from sklearn.model_selection import StratifiedKFold\n",
        "# for searching for best params\n",
        "from sklearn.model_selection import GridSearchCV\n",
        "\n",
        "# for FastText vectorization\n",
        "import gensim\n",
        "\n",
        "import warnings\n",
        "warnings.simplefilter(action='ignore')\n",
        "\n",
        "import nltk\n",
        "from nltk.corpus import stopwords\n",
        "from sklearn.model_selection import train_test_split\n",
        "from mlxtend.plotting import plot_confusion_matrix\n",
        "from sklearn.tree import DecisionTreeClassifier\n",
        "from sklearn.ensemble import RandomForestClassifier\n",
        "from sklearn.metrics import accuracy_score,confusion_matrix,classification_report"
      ],
      "execution_count": 0,
      "outputs": []
    },
    {
      "cell_type": "code",
      "metadata": {
        "id": "ntpL-feqlhN4",
        "colab_type": "code",
        "outputId": "033599c1-99d7-4ec3-8456-662b1f04b75d",
        "colab": {
          "base_uri": "https://localhost:8080/",
          "height": 34
        }
      },
      "source": [
        "from google.colab import drive\n",
        "drive.mount('/content/gdrive')"
      ],
      "execution_count": 0,
      "outputs": [
        {
          "output_type": "stream",
          "text": [
            "Drive already mounted at /content/gdrive; to attempt to forcibly remount, call drive.mount(\"/content/gdrive\", force_remount=True).\n"
          ],
          "name": "stdout"
        }
      ]
    },
    {
      "cell_type": "code",
      "metadata": {
        "id": "vVEi26_8nwrL",
        "colab_type": "code",
        "colab": {}
      },
      "source": [
        "# config\n",
        "DATA_DIR = '/content/gdrive/My Drive/DA_Project'\n",
        "TRAIN_DATA_FILE = 'train.csv'\n",
        "TEST_DATA_FILE = 'test.csv'\n",
        "SUBMISSION_FILE = 'submission.csv'\n",
        "\n",
        "RANDOM_STATE = 0"
      ],
      "execution_count": 0,
      "outputs": []
    },
    {
      "cell_type": "code",
      "metadata": {
        "id": "DTd4w361ojSv",
        "colab_type": "code",
        "colab": {}
      },
      "source": [
        "train_data = pd.read_csv(os.path.join(DATA_DIR, TRAIN_DATA_FILE)).fillna('')\n",
        "test_data = pd.read_csv(os.path.join(DATA_DIR, TEST_DATA_FILE)).fillna('')"
      ],
      "execution_count": 0,
      "outputs": []
    },
    {
      "cell_type": "code",
      "metadata": {
        "id": "akOVpbI9pGMm",
        "colab_type": "code",
        "outputId": "cdc37ab2-b4ae-487b-b452-cd4de1ea2172",
        "colab": {
          "base_uri": "https://localhost:8080/",
          "height": 221
        }
      },
      "source": [
        "print(train_data.shape)\n",
        "train_data.head()"
      ],
      "execution_count": 0,
      "outputs": [
        {
          "output_type": "stream",
          "text": [
            "(27486, 4)\n"
          ],
          "name": "stdout"
        },
        {
          "output_type": "execute_result",
          "data": {
            "text/html": [
              "<div>\n",
              "<style scoped>\n",
              "    .dataframe tbody tr th:only-of-type {\n",
              "        vertical-align: middle;\n",
              "    }\n",
              "\n",
              "    .dataframe tbody tr th {\n",
              "        vertical-align: top;\n",
              "    }\n",
              "\n",
              "    .dataframe thead th {\n",
              "        text-align: right;\n",
              "    }\n",
              "</style>\n",
              "<table border=\"1\" class=\"dataframe\">\n",
              "  <thead>\n",
              "    <tr style=\"text-align: right;\">\n",
              "      <th></th>\n",
              "      <th>textID</th>\n",
              "      <th>text</th>\n",
              "      <th>selected_text</th>\n",
              "      <th>sentiment</th>\n",
              "    </tr>\n",
              "  </thead>\n",
              "  <tbody>\n",
              "    <tr>\n",
              "      <th>0</th>\n",
              "      <td>a3d0a7d5ad</td>\n",
              "      <td>Spent the entire morning in a meeting w/ a ven...</td>\n",
              "      <td>my boss was not happy w/ them. Lots of fun.</td>\n",
              "      <td>neutral</td>\n",
              "    </tr>\n",
              "    <tr>\n",
              "      <th>1</th>\n",
              "      <td>251b6a6766</td>\n",
              "      <td>Oh! Good idea about putting them on ice cream</td>\n",
              "      <td>Good</td>\n",
              "      <td>positive</td>\n",
              "    </tr>\n",
              "    <tr>\n",
              "      <th>2</th>\n",
              "      <td>c9e8d1ef1c</td>\n",
              "      <td>says good (or should i say bad?) afternoon!  h...</td>\n",
              "      <td>says good (or should i say bad?) afternoon!</td>\n",
              "      <td>neutral</td>\n",
              "    </tr>\n",
              "    <tr>\n",
              "      <th>3</th>\n",
              "      <td>f14f087215</td>\n",
              "      <td>i dont think you can vote anymore! i tried</td>\n",
              "      <td>i dont think you can vote anymore!</td>\n",
              "      <td>negative</td>\n",
              "    </tr>\n",
              "    <tr>\n",
              "      <th>4</th>\n",
              "      <td>bf7473b12d</td>\n",
              "      <td>haha better drunken tweeting you mean?</td>\n",
              "      <td>better</td>\n",
              "      <td>positive</td>\n",
              "    </tr>\n",
              "  </tbody>\n",
              "</table>\n",
              "</div>"
            ],
            "text/plain": [
              "       textID  ... sentiment\n",
              "0  a3d0a7d5ad  ...   neutral\n",
              "1  251b6a6766  ...  positive\n",
              "2  c9e8d1ef1c  ...   neutral\n",
              "3  f14f087215  ...  negative\n",
              "4  bf7473b12d  ...  positive\n",
              "\n",
              "[5 rows x 4 columns]"
            ]
          },
          "metadata": {
            "tags": []
          },
          "execution_count": 18
        }
      ]
    },
    {
      "cell_type": "code",
      "metadata": {
        "id": "xEW09NkGo0xq",
        "colab_type": "code",
        "outputId": "69884be8-5c23-4c52-ef98-9bb5fde50b43",
        "colab": {
          "base_uri": "https://localhost:8080/",
          "height": 221
        }
      },
      "source": [
        "print(test_data.shape)\n",
        "test_data.head()"
      ],
      "execution_count": 0,
      "outputs": [
        {
          "output_type": "stream",
          "text": [
            "(3535, 3)\n"
          ],
          "name": "stdout"
        },
        {
          "output_type": "execute_result",
          "data": {
            "text/html": [
              "<div>\n",
              "<style scoped>\n",
              "    .dataframe tbody tr th:only-of-type {\n",
              "        vertical-align: middle;\n",
              "    }\n",
              "\n",
              "    .dataframe tbody tr th {\n",
              "        vertical-align: top;\n",
              "    }\n",
              "\n",
              "    .dataframe thead th {\n",
              "        text-align: right;\n",
              "    }\n",
              "</style>\n",
              "<table border=\"1\" class=\"dataframe\">\n",
              "  <thead>\n",
              "    <tr style=\"text-align: right;\">\n",
              "      <th></th>\n",
              "      <th>textID</th>\n",
              "      <th>text</th>\n",
              "      <th>sentiment</th>\n",
              "    </tr>\n",
              "  </thead>\n",
              "  <tbody>\n",
              "    <tr>\n",
              "      <th>0</th>\n",
              "      <td>11aa4945ff</td>\n",
              "      <td>http://twitpic.com/67swx - i wish i was calli...</td>\n",
              "      <td>positive</td>\n",
              "    </tr>\n",
              "    <tr>\n",
              "      <th>1</th>\n",
              "      <td>fd1db57dc0</td>\n",
              "      <td>i'm done.haha. HOUSE MD marathon ulet</td>\n",
              "      <td>positive</td>\n",
              "    </tr>\n",
              "    <tr>\n",
              "      <th>2</th>\n",
              "      <td>2524332d66</td>\n",
              "      <td>I'm concerned for that family</td>\n",
              "      <td>positive</td>\n",
              "    </tr>\n",
              "    <tr>\n",
              "      <th>3</th>\n",
              "      <td>0fb19285b2</td>\n",
              "      <td>HEY GUYS IT'S WORKING NO NEED TO WORRY. i have...</td>\n",
              "      <td>positive</td>\n",
              "    </tr>\n",
              "    <tr>\n",
              "      <th>4</th>\n",
              "      <td>e6c9e5e3ab</td>\n",
              "      <td>26th February</td>\n",
              "      <td>neutral</td>\n",
              "    </tr>\n",
              "  </tbody>\n",
              "</table>\n",
              "</div>"
            ],
            "text/plain": [
              "       textID                                               text sentiment\n",
              "0  11aa4945ff   http://twitpic.com/67swx - i wish i was calli...  positive\n",
              "1  fd1db57dc0              i'm done.haha. HOUSE MD marathon ulet  positive\n",
              "2  2524332d66                      I'm concerned for that family  positive\n",
              "3  0fb19285b2  HEY GUYS IT'S WORKING NO NEED TO WORRY. i have...  positive\n",
              "4  e6c9e5e3ab                                      26th February   neutral"
            ]
          },
          "metadata": {
            "tags": []
          },
          "execution_count": 19
        }
      ]
    },
    {
      "cell_type": "code",
      "metadata": {
        "id": "tYQt-DOQhWTE",
        "colab_type": "code",
        "outputId": "8e67d5a2-7172-45e7-9e74-709316bb8ded",
        "colab": {
          "base_uri": "https://localhost:8080/",
          "height": 419
        }
      },
      "source": [
        "#combining test and train data\n",
        "data = train_data.append(test_data, ignore_index = True)\n",
        "data"
      ],
      "execution_count": 0,
      "outputs": [
        {
          "output_type": "execute_result",
          "data": {
            "text/html": [
              "<div>\n",
              "<style scoped>\n",
              "    .dataframe tbody tr th:only-of-type {\n",
              "        vertical-align: middle;\n",
              "    }\n",
              "\n",
              "    .dataframe tbody tr th {\n",
              "        vertical-align: top;\n",
              "    }\n",
              "\n",
              "    .dataframe thead th {\n",
              "        text-align: right;\n",
              "    }\n",
              "</style>\n",
              "<table border=\"1\" class=\"dataframe\">\n",
              "  <thead>\n",
              "    <tr style=\"text-align: right;\">\n",
              "      <th></th>\n",
              "      <th>textID</th>\n",
              "      <th>text</th>\n",
              "      <th>selected_text</th>\n",
              "      <th>sentiment</th>\n",
              "    </tr>\n",
              "  </thead>\n",
              "  <tbody>\n",
              "    <tr>\n",
              "      <th>0</th>\n",
              "      <td>a3d0a7d5ad</td>\n",
              "      <td>Spent the entire morning in a meeting w/ a ven...</td>\n",
              "      <td>my boss was not happy w/ them. Lots of fun.</td>\n",
              "      <td>neutral</td>\n",
              "    </tr>\n",
              "    <tr>\n",
              "      <th>1</th>\n",
              "      <td>251b6a6766</td>\n",
              "      <td>Oh! Good idea about putting them on ice cream</td>\n",
              "      <td>Good</td>\n",
              "      <td>positive</td>\n",
              "    </tr>\n",
              "    <tr>\n",
              "      <th>2</th>\n",
              "      <td>c9e8d1ef1c</td>\n",
              "      <td>says good (or should i say bad?) afternoon!  h...</td>\n",
              "      <td>says good (or should i say bad?) afternoon!</td>\n",
              "      <td>neutral</td>\n",
              "    </tr>\n",
              "    <tr>\n",
              "      <th>3</th>\n",
              "      <td>f14f087215</td>\n",
              "      <td>i dont think you can vote anymore! i tried</td>\n",
              "      <td>i dont think you can vote anymore!</td>\n",
              "      <td>negative</td>\n",
              "    </tr>\n",
              "    <tr>\n",
              "      <th>4</th>\n",
              "      <td>bf7473b12d</td>\n",
              "      <td>haha better drunken tweeting you mean?</td>\n",
              "      <td>better</td>\n",
              "      <td>positive</td>\n",
              "    </tr>\n",
              "    <tr>\n",
              "      <th>...</th>\n",
              "      <td>...</td>\n",
              "      <td>...</td>\n",
              "      <td>...</td>\n",
              "      <td>...</td>\n",
              "    </tr>\n",
              "    <tr>\n",
              "      <th>31016</th>\n",
              "      <td>2f8444db6c</td>\n",
              "      <td>@_shannon1234 Shannie im so sorry! didnt mean ...</td>\n",
              "      <td>NaN</td>\n",
              "      <td>negative</td>\n",
              "    </tr>\n",
              "    <tr>\n",
              "      <th>31017</th>\n",
              "      <td>11de8c0456</td>\n",
              "      <td>Im Slowing on My Tweets..Cuase I Lost My Phone</td>\n",
              "      <td>NaN</td>\n",
              "      <td>negative</td>\n",
              "    </tr>\n",
              "    <tr>\n",
              "      <th>31018</th>\n",
              "      <td>08f6036add</td>\n",
              "      <td>Invasion of the Old Ladies has just ended, sti...</td>\n",
              "      <td>NaN</td>\n",
              "      <td>neutral</td>\n",
              "    </tr>\n",
              "    <tr>\n",
              "      <th>31019</th>\n",
              "      <td>27d6472b81</td>\n",
              "      <td>$#@! My nose stud fell out and I can't find it...</td>\n",
              "      <td>NaN</td>\n",
              "      <td>negative</td>\n",
              "    </tr>\n",
              "    <tr>\n",
              "      <th>31020</th>\n",
              "      <td>aa1a163174</td>\n",
              "      <td>Will do</td>\n",
              "      <td>NaN</td>\n",
              "      <td>neutral</td>\n",
              "    </tr>\n",
              "  </tbody>\n",
              "</table>\n",
              "<p>31021 rows × 4 columns</p>\n",
              "</div>"
            ],
            "text/plain": [
              "           textID  ... sentiment\n",
              "0      a3d0a7d5ad  ...   neutral\n",
              "1      251b6a6766  ...  positive\n",
              "2      c9e8d1ef1c  ...   neutral\n",
              "3      f14f087215  ...  negative\n",
              "4      bf7473b12d  ...  positive\n",
              "...           ...  ...       ...\n",
              "31016  2f8444db6c  ...  negative\n",
              "31017  11de8c0456  ...  negative\n",
              "31018  08f6036add  ...   neutral\n",
              "31019  27d6472b81  ...  negative\n",
              "31020  aa1a163174  ...   neutral\n",
              "\n",
              "[31021 rows x 4 columns]"
            ]
          },
          "metadata": {
            "tags": []
          },
          "execution_count": 20
        }
      ]
    },
    {
      "cell_type": "code",
      "metadata": {
        "id": "cCeSp9AFiFzk",
        "colab_type": "code",
        "outputId": "13bb5c3f-ab66-4c4a-a3b4-cfae4660e17b",
        "colab": {
          "base_uri": "https://localhost:8080/",
          "height": 419
        }
      },
      "source": [
        "#cleaning data and converting sentiment to class labels\n",
        "\n",
        "def getLower(x):\n",
        "  #print(x)\n",
        "  if pd.isna(x):\n",
        "    return ''\n",
        "  return x.lower()   #lowercased\n",
        "\n",
        "data = data.astype('string')\n",
        "data['sentiment'] = data['sentiment'].map({'negative': -1, 'neutral': 0, 'positive': 1})\n",
        "data['text'] = data['text'].map(getLower)\n",
        "data['text'] = data['text'].str.replace('[^\\w\\s]', '') #removing characters #Removing Punctuations, Numbers, and Special Characters\n",
        "data"
      ],
      "execution_count": 0,
      "outputs": [
        {
          "output_type": "execute_result",
          "data": {
            "text/html": [
              "<div>\n",
              "<style scoped>\n",
              "    .dataframe tbody tr th:only-of-type {\n",
              "        vertical-align: middle;\n",
              "    }\n",
              "\n",
              "    .dataframe tbody tr th {\n",
              "        vertical-align: top;\n",
              "    }\n",
              "\n",
              "    .dataframe thead th {\n",
              "        text-align: right;\n",
              "    }\n",
              "</style>\n",
              "<table border=\"1\" class=\"dataframe\">\n",
              "  <thead>\n",
              "    <tr style=\"text-align: right;\">\n",
              "      <th></th>\n",
              "      <th>textID</th>\n",
              "      <th>text</th>\n",
              "      <th>selected_text</th>\n",
              "      <th>sentiment</th>\n",
              "    </tr>\n",
              "  </thead>\n",
              "  <tbody>\n",
              "    <tr>\n",
              "      <th>0</th>\n",
              "      <td>a3d0a7d5ad</td>\n",
              "      <td>spent the entire morning in a meeting w a vend...</td>\n",
              "      <td>my boss was not happy w/ them. Lots of fun.</td>\n",
              "      <td>0</td>\n",
              "    </tr>\n",
              "    <tr>\n",
              "      <th>1</th>\n",
              "      <td>251b6a6766</td>\n",
              "      <td>oh good idea about putting them on ice cream</td>\n",
              "      <td>Good</td>\n",
              "      <td>1</td>\n",
              "    </tr>\n",
              "    <tr>\n",
              "      <th>2</th>\n",
              "      <td>c9e8d1ef1c</td>\n",
              "      <td>says good or should i say bad afternoon  httpp...</td>\n",
              "      <td>says good (or should i say bad?) afternoon!</td>\n",
              "      <td>0</td>\n",
              "    </tr>\n",
              "    <tr>\n",
              "      <th>3</th>\n",
              "      <td>f14f087215</td>\n",
              "      <td>i dont think you can vote anymore i tried</td>\n",
              "      <td>i dont think you can vote anymore!</td>\n",
              "      <td>-1</td>\n",
              "    </tr>\n",
              "    <tr>\n",
              "      <th>4</th>\n",
              "      <td>bf7473b12d</td>\n",
              "      <td>haha better drunken tweeting you mean</td>\n",
              "      <td>better</td>\n",
              "      <td>1</td>\n",
              "    </tr>\n",
              "    <tr>\n",
              "      <th>...</th>\n",
              "      <td>...</td>\n",
              "      <td>...</td>\n",
              "      <td>...</td>\n",
              "      <td>...</td>\n",
              "    </tr>\n",
              "    <tr>\n",
              "      <th>31016</th>\n",
              "      <td>2f8444db6c</td>\n",
              "      <td>_shannon1234 shannie im so sorry didnt mean to...</td>\n",
              "      <td>&lt;NA&gt;</td>\n",
              "      <td>-1</td>\n",
              "    </tr>\n",
              "    <tr>\n",
              "      <th>31017</th>\n",
              "      <td>11de8c0456</td>\n",
              "      <td>im slowing on my tweetscuase i lost my phone</td>\n",
              "      <td>&lt;NA&gt;</td>\n",
              "      <td>-1</td>\n",
              "    </tr>\n",
              "    <tr>\n",
              "      <th>31018</th>\n",
              "      <td>08f6036add</td>\n",
              "      <td>invasion of the old ladies has just ended stil...</td>\n",
              "      <td>&lt;NA&gt;</td>\n",
              "      <td>0</td>\n",
              "    </tr>\n",
              "    <tr>\n",
              "      <th>31019</th>\n",
              "      <td>27d6472b81</td>\n",
              "      <td>my nose stud fell out and i cant find it  loo...</td>\n",
              "      <td>&lt;NA&gt;</td>\n",
              "      <td>-1</td>\n",
              "    </tr>\n",
              "    <tr>\n",
              "      <th>31020</th>\n",
              "      <td>aa1a163174</td>\n",
              "      <td>will do</td>\n",
              "      <td>&lt;NA&gt;</td>\n",
              "      <td>0</td>\n",
              "    </tr>\n",
              "  </tbody>\n",
              "</table>\n",
              "<p>31021 rows × 4 columns</p>\n",
              "</div>"
            ],
            "text/plain": [
              "           textID  ... sentiment\n",
              "0      a3d0a7d5ad  ...         0\n",
              "1      251b6a6766  ...         1\n",
              "2      c9e8d1ef1c  ...         0\n",
              "3      f14f087215  ...        -1\n",
              "4      bf7473b12d  ...         1\n",
              "...           ...  ...       ...\n",
              "31016  2f8444db6c  ...        -1\n",
              "31017  11de8c0456  ...        -1\n",
              "31018  08f6036add  ...         0\n",
              "31019  27d6472b81  ...        -1\n",
              "31020  aa1a163174  ...         0\n",
              "\n",
              "[31021 rows x 4 columns]"
            ]
          },
          "metadata": {
            "tags": []
          },
          "execution_count": 21
        }
      ]
    },
    {
      "cell_type": "code",
      "metadata": {
        "id": "p7cpKmoWoJYV",
        "colab_type": "code",
        "colab": {}
      },
      "source": [
        "#Removing short words\n",
        "data['text'] = data['text'].apply(lambda x: ' '.join([w for w in x.split() if len(w)>2]))"
      ],
      "execution_count": 0,
      "outputs": []
    },
    {
      "cell_type": "code",
      "metadata": {
        "id": "cQn_TY_H6lSv",
        "colab_type": "code",
        "outputId": "5817e2a7-8231-4d98-b11f-a9a161f62063",
        "colab": {
          "base_uri": "https://localhost:8080/",
          "height": 289
        }
      },
      "source": [
        "#download punkt\n",
        "import nltk\n",
        "nltk.download()"
      ],
      "execution_count": 0,
      "outputs": [
        {
          "output_type": "stream",
          "text": [
            "NLTK Downloader\n",
            "---------------------------------------------------------------------------\n",
            "    d) Download   l) List    u) Update   c) Config   h) Help   q) Quit\n",
            "---------------------------------------------------------------------------\n",
            "Downloader> d\n",
            "\n",
            "Download which package (l=list; x=cancel)?\n",
            "  Identifier> punkt\n",
            "    Downloading package punkt to /root/nltk_data...\n",
            "      Package punkt is already up-to-date!\n",
            "\n",
            "---------------------------------------------------------------------------\n",
            "    d) Download   l) List    u) Update   c) Config   h) Help   q) Quit\n",
            "---------------------------------------------------------------------------\n",
            "Downloader> q\n"
          ],
          "name": "stdout"
        },
        {
          "output_type": "execute_result",
          "data": {
            "text/plain": [
              "True"
            ]
          },
          "metadata": {
            "tags": []
          },
          "execution_count": 23
        }
      ]
    },
    {
      "cell_type": "code",
      "metadata": {
        "id": "WhIaVe8m67eQ",
        "colab_type": "code",
        "outputId": "d8dfa79a-fd4e-4190-fbb8-8baf4e0d4e5c",
        "colab": {
          "base_uri": "https://localhost:8080/",
          "height": 419
        }
      },
      "source": [
        "data['text'] = data['text'].apply(nltk.word_tokenize)\n",
        "data"
      ],
      "execution_count": 0,
      "outputs": [
        {
          "output_type": "execute_result",
          "data": {
            "text/html": [
              "<div>\n",
              "<style scoped>\n",
              "    .dataframe tbody tr th:only-of-type {\n",
              "        vertical-align: middle;\n",
              "    }\n",
              "\n",
              "    .dataframe tbody tr th {\n",
              "        vertical-align: top;\n",
              "    }\n",
              "\n",
              "    .dataframe thead th {\n",
              "        text-align: right;\n",
              "    }\n",
              "</style>\n",
              "<table border=\"1\" class=\"dataframe\">\n",
              "  <thead>\n",
              "    <tr style=\"text-align: right;\">\n",
              "      <th></th>\n",
              "      <th>textID</th>\n",
              "      <th>text</th>\n",
              "      <th>selected_text</th>\n",
              "      <th>sentiment</th>\n",
              "    </tr>\n",
              "  </thead>\n",
              "  <tbody>\n",
              "    <tr>\n",
              "      <th>0</th>\n",
              "      <td>a3d0a7d5ad</td>\n",
              "      <td>[spent, the, entire, morning, meeting, vendor,...</td>\n",
              "      <td>my boss was not happy w/ them. Lots of fun.</td>\n",
              "      <td>0</td>\n",
              "    </tr>\n",
              "    <tr>\n",
              "      <th>1</th>\n",
              "      <td>251b6a6766</td>\n",
              "      <td>[good, idea, about, putting, them, ice, cream]</td>\n",
              "      <td>Good</td>\n",
              "      <td>1</td>\n",
              "    </tr>\n",
              "    <tr>\n",
              "      <th>2</th>\n",
              "      <td>c9e8d1ef1c</td>\n",
              "      <td>[says, good, should, say, bad, afternoon, http...</td>\n",
              "      <td>says good (or should i say bad?) afternoon!</td>\n",
              "      <td>0</td>\n",
              "    </tr>\n",
              "    <tr>\n",
              "      <th>3</th>\n",
              "      <td>f14f087215</td>\n",
              "      <td>[dont, think, you, can, vote, anymore, tried]</td>\n",
              "      <td>i dont think you can vote anymore!</td>\n",
              "      <td>-1</td>\n",
              "    </tr>\n",
              "    <tr>\n",
              "      <th>4</th>\n",
              "      <td>bf7473b12d</td>\n",
              "      <td>[haha, better, drunken, tweeting, you, mean]</td>\n",
              "      <td>better</td>\n",
              "      <td>1</td>\n",
              "    </tr>\n",
              "    <tr>\n",
              "      <th>...</th>\n",
              "      <td>...</td>\n",
              "      <td>...</td>\n",
              "      <td>...</td>\n",
              "      <td>...</td>\n",
              "    </tr>\n",
              "    <tr>\n",
              "      <th>31016</th>\n",
              "      <td>2f8444db6c</td>\n",
              "      <td>[_shannon1234, shannie, sorry, didnt, mean, up...</td>\n",
              "      <td>&lt;NA&gt;</td>\n",
              "      <td>-1</td>\n",
              "    </tr>\n",
              "    <tr>\n",
              "      <th>31017</th>\n",
              "      <td>11de8c0456</td>\n",
              "      <td>[slowing, tweetscuase, lost, phone]</td>\n",
              "      <td>&lt;NA&gt;</td>\n",
              "      <td>-1</td>\n",
              "    </tr>\n",
              "    <tr>\n",
              "      <th>31018</th>\n",
              "      <td>08f6036add</td>\n",
              "      <td>[invasion, the, old, ladies, has, just, ended,...</td>\n",
              "      <td>&lt;NA&gt;</td>\n",
              "      <td>0</td>\n",
              "    </tr>\n",
              "    <tr>\n",
              "      <th>31019</th>\n",
              "      <td>27d6472b81</td>\n",
              "      <td>[nose, stud, fell, out, and, cant, find, looks...</td>\n",
              "      <td>&lt;NA&gt;</td>\n",
              "      <td>-1</td>\n",
              "    </tr>\n",
              "    <tr>\n",
              "      <th>31020</th>\n",
              "      <td>aa1a163174</td>\n",
              "      <td>[will]</td>\n",
              "      <td>&lt;NA&gt;</td>\n",
              "      <td>0</td>\n",
              "    </tr>\n",
              "  </tbody>\n",
              "</table>\n",
              "<p>31021 rows × 4 columns</p>\n",
              "</div>"
            ],
            "text/plain": [
              "           textID  ... sentiment\n",
              "0      a3d0a7d5ad  ...         0\n",
              "1      251b6a6766  ...         1\n",
              "2      c9e8d1ef1c  ...         0\n",
              "3      f14f087215  ...        -1\n",
              "4      bf7473b12d  ...         1\n",
              "...           ...  ...       ...\n",
              "31016  2f8444db6c  ...        -1\n",
              "31017  11de8c0456  ...        -1\n",
              "31018  08f6036add  ...         0\n",
              "31019  27d6472b81  ...        -1\n",
              "31020  aa1a163174  ...         0\n",
              "\n",
              "[31021 rows x 4 columns]"
            ]
          },
          "metadata": {
            "tags": []
          },
          "execution_count": 24
        }
      ]
    },
    {
      "cell_type": "code",
      "metadata": {
        "id": "N9LD1Ozo7IhP",
        "colab_type": "code",
        "outputId": "b1e3ae6a-8971-46b7-a243-9eeee7538e05",
        "colab": {
          "base_uri": "https://localhost:8080/",
          "height": 419
        }
      },
      "source": [
        "from nltk.stem import PorterStemmer\n",
        "\n",
        "stemmer = PorterStemmer()\n",
        "data['text'] = data['text'].apply(lambda x: [stemmer.stem(y) for y in x])\n",
        "data"
      ],
      "execution_count": 0,
      "outputs": [
        {
          "output_type": "execute_result",
          "data": {
            "text/html": [
              "<div>\n",
              "<style scoped>\n",
              "    .dataframe tbody tr th:only-of-type {\n",
              "        vertical-align: middle;\n",
              "    }\n",
              "\n",
              "    .dataframe tbody tr th {\n",
              "        vertical-align: top;\n",
              "    }\n",
              "\n",
              "    .dataframe thead th {\n",
              "        text-align: right;\n",
              "    }\n",
              "</style>\n",
              "<table border=\"1\" class=\"dataframe\">\n",
              "  <thead>\n",
              "    <tr style=\"text-align: right;\">\n",
              "      <th></th>\n",
              "      <th>textID</th>\n",
              "      <th>text</th>\n",
              "      <th>selected_text</th>\n",
              "      <th>sentiment</th>\n",
              "    </tr>\n",
              "  </thead>\n",
              "  <tbody>\n",
              "    <tr>\n",
              "      <th>0</th>\n",
              "      <td>a3d0a7d5ad</td>\n",
              "      <td>[spent, the, entir, morn, meet, vendor, and, b...</td>\n",
              "      <td>my boss was not happy w/ them. Lots of fun.</td>\n",
              "      <td>0</td>\n",
              "    </tr>\n",
              "    <tr>\n",
              "      <th>1</th>\n",
              "      <td>251b6a6766</td>\n",
              "      <td>[good, idea, about, put, them, ice, cream]</td>\n",
              "      <td>Good</td>\n",
              "      <td>1</td>\n",
              "    </tr>\n",
              "    <tr>\n",
              "      <th>2</th>\n",
              "      <td>c9e8d1ef1c</td>\n",
              "      <td>[say, good, should, say, bad, afternoon, httpp...</td>\n",
              "      <td>says good (or should i say bad?) afternoon!</td>\n",
              "      <td>0</td>\n",
              "    </tr>\n",
              "    <tr>\n",
              "      <th>3</th>\n",
              "      <td>f14f087215</td>\n",
              "      <td>[dont, think, you, can, vote, anymor, tri]</td>\n",
              "      <td>i dont think you can vote anymore!</td>\n",
              "      <td>-1</td>\n",
              "    </tr>\n",
              "    <tr>\n",
              "      <th>4</th>\n",
              "      <td>bf7473b12d</td>\n",
              "      <td>[haha, better, drunken, tweet, you, mean]</td>\n",
              "      <td>better</td>\n",
              "      <td>1</td>\n",
              "    </tr>\n",
              "    <tr>\n",
              "      <th>...</th>\n",
              "      <td>...</td>\n",
              "      <td>...</td>\n",
              "      <td>...</td>\n",
              "      <td>...</td>\n",
              "    </tr>\n",
              "    <tr>\n",
              "      <th>31016</th>\n",
              "      <td>2f8444db6c</td>\n",
              "      <td>[_shannon1234, shanni, sorri, didnt, mean, ups...</td>\n",
              "      <td>&lt;NA&gt;</td>\n",
              "      <td>-1</td>\n",
              "    </tr>\n",
              "    <tr>\n",
              "      <th>31017</th>\n",
              "      <td>11de8c0456</td>\n",
              "      <td>[slow, tweetscuas, lost, phone]</td>\n",
              "      <td>&lt;NA&gt;</td>\n",
              "      <td>-1</td>\n",
              "    </tr>\n",
              "    <tr>\n",
              "      <th>31018</th>\n",
              "      <td>08f6036add</td>\n",
              "      <td>[invas, the, old, ladi, ha, just, end, still, ...</td>\n",
              "      <td>&lt;NA&gt;</td>\n",
              "      <td>0</td>\n",
              "    </tr>\n",
              "    <tr>\n",
              "      <th>31019</th>\n",
              "      <td>27d6472b81</td>\n",
              "      <td>[nose, stud, fell, out, and, cant, find, look,...</td>\n",
              "      <td>&lt;NA&gt;</td>\n",
              "      <td>-1</td>\n",
              "    </tr>\n",
              "    <tr>\n",
              "      <th>31020</th>\n",
              "      <td>aa1a163174</td>\n",
              "      <td>[will]</td>\n",
              "      <td>&lt;NA&gt;</td>\n",
              "      <td>0</td>\n",
              "    </tr>\n",
              "  </tbody>\n",
              "</table>\n",
              "<p>31021 rows × 4 columns</p>\n",
              "</div>"
            ],
            "text/plain": [
              "           textID  ... sentiment\n",
              "0      a3d0a7d5ad  ...         0\n",
              "1      251b6a6766  ...         1\n",
              "2      c9e8d1ef1c  ...         0\n",
              "3      f14f087215  ...        -1\n",
              "4      bf7473b12d  ...         1\n",
              "...           ...  ...       ...\n",
              "31016  2f8444db6c  ...        -1\n",
              "31017  11de8c0456  ...        -1\n",
              "31018  08f6036add  ...         0\n",
              "31019  27d6472b81  ...        -1\n",
              "31020  aa1a163174  ...         0\n",
              "\n",
              "[31021 rows x 4 columns]"
            ]
          },
          "metadata": {
            "tags": []
          },
          "execution_count": 25
        }
      ]
    },
    {
      "cell_type": "code",
      "metadata": {
        "id": "0vNonriTqvOM",
        "colab_type": "code",
        "outputId": "02605168-987c-44cf-d35b-a8eefc7cc1d6",
        "colab": {
          "base_uri": "https://localhost:8080/",
          "height": 51
        }
      },
      "source": [
        "from sklearn.feature_extraction.text import CountVectorizer\n",
        "\n",
        "data['text'] = data['text'].apply(lambda x: ' '.join(x))\n",
        "\n",
        "count_vect = CountVectorizer()\n",
        "counts = count_vect.fit_transform(data['text'])\n",
        "counts"
      ],
      "execution_count": 0,
      "outputs": [
        {
          "output_type": "execute_result",
          "data": {
            "text/plain": [
              "<31021x26878 sparse matrix of type '<class 'numpy.int64'>'\n",
              "\twith 287594 stored elements in Compressed Sparse Row format>"
            ]
          },
          "metadata": {
            "tags": []
          },
          "execution_count": 26
        }
      ]
    },
    {
      "cell_type": "code",
      "metadata": {
        "id": "4x1vuxGuqvSv",
        "colab_type": "code",
        "colab": {}
      },
      "source": [
        "from sklearn.model_selection import train_test_split\n",
        "\n",
        "X_train, X_test, y_train, y_test = train_test_split(counts, data['sentiment'], test_size=3535, shuffle=False, stratify=None)"
      ],
      "execution_count": 0,
      "outputs": []
    },
    {
      "cell_type": "code",
      "metadata": {
        "id": "e0ZooDkm8C75",
        "colab_type": "code",
        "outputId": "de1f965b-556a-4425-8ec3-03308f3c3350",
        "colab": {
          "base_uri": "https://localhost:8080/",
          "height": 153
        }
      },
      "source": [
        "#RandomForest\n",
        "classifier = RandomForestClassifier(n_estimators=200)\n",
        "classifier.fit(X_train, y_train)"
      ],
      "execution_count": 0,
      "outputs": [
        {
          "output_type": "execute_result",
          "data": {
            "text/plain": [
              "RandomForestClassifier(bootstrap=True, ccp_alpha=0.0, class_weight=None,\n",
              "                       criterion='gini', max_depth=None, max_features='auto',\n",
              "                       max_leaf_nodes=None, max_samples=None,\n",
              "                       min_impurity_decrease=0.0, min_impurity_split=None,\n",
              "                       min_samples_leaf=1, min_samples_split=2,\n",
              "                       min_weight_fraction_leaf=0.0, n_estimators=200,\n",
              "                       n_jobs=None, oob_score=False, random_state=None,\n",
              "                       verbose=0, warm_start=False)"
            ]
          },
          "metadata": {
            "tags": []
          },
          "execution_count": 28
        }
      ]
    },
    {
      "cell_type": "code",
      "metadata": {
        "id": "ITDFHxyS8WSS",
        "colab_type": "code",
        "outputId": "cecb8b06-eb60-422d-c294-15396907fdd6",
        "colab": {
          "base_uri": "https://localhost:8080/",
          "height": 34
        }
      },
      "source": [
        "import numpy as np\n",
        "\n",
        "predicted = classifier.predict(X_test)\n",
        "\n",
        "print(np.mean(predicted == y_test))"
      ],
      "execution_count": 0,
      "outputs": [
        {
          "output_type": "stream",
          "text": [
            "0.7190947666195191\n"
          ],
          "name": "stdout"
        }
      ]
    },
    {
      "cell_type": "code",
      "metadata": {
        "id": "ZkVUBmsQ8bh9",
        "colab_type": "code",
        "outputId": "cfb2deac-b812-446c-dd36-89eb22821772",
        "colab": {
          "base_uri": "https://localhost:8080/",
          "height": 68
        }
      },
      "source": [
        "from sklearn.metrics import confusion_matrix\n",
        "\n",
        "print(confusion_matrix(y_test, predicted))"
      ],
      "execution_count": 0,
      "outputs": [
        {
          "output_type": "stream",
          "text": [
            "[[ 646  316   39]\n",
            " [ 164 1079  187]\n",
            " [  34  253  817]]\n"
          ],
          "name": "stdout"
        }
      ]
    },
    {
      "cell_type": "code",
      "metadata": {
        "id": "m03ZRuzd8eD6",
        "colab_type": "code",
        "outputId": "2eb83f9a-44d8-437d-8b91-590188524d98",
        "colab": {
          "base_uri": "https://localhost:8080/",
          "height": 68
        }
      },
      "source": [
        "from sklearn.metrics import f1_score\n",
        "\n",
        "print(f1_score(y_test, predicted, average='micro'))\n",
        "print(f1_score(y_test, predicted, average='macro'))\n",
        "print(f1_score(y_test, predicted, average='weighted'))"
      ],
      "execution_count": 0,
      "outputs": [
        {
          "output_type": "stream",
          "text": [
            "0.7190947666195191\n",
            "0.7208125209993322\n",
            "0.7195935672515612\n"
          ],
          "name": "stdout"
        }
      ]
    },
    {
      "cell_type": "code",
      "metadata": {
        "id": "V1BfRjYX8gi5",
        "colab_type": "code",
        "outputId": "dc6ad700-28b5-4760-f8b1-88a19c02cd1e",
        "colab": {
          "base_uri": "https://localhost:8080/",
          "height": 68
        }
      },
      "source": [
        "from sklearn.metrics import jaccard_score\n",
        "\n",
        "print(jaccard_score(y_test, predicted, average='micro'))\n",
        "print(jaccard_score(y_test, predicted, average='macro'))\n",
        "print(jaccard_score(y_test, predicted, average='weighted'))"
      ],
      "execution_count": 0,
      "outputs": [
        {
          "output_type": "stream",
          "text": [
            "0.5613957597173145\n",
            "0.5642793059423393\n",
            "0.5627619419962075\n"
          ],
          "name": "stdout"
        }
      ]
    },
    {
      "cell_type": "code",
      "metadata": {
        "id": "aU9t-fxNjU1x",
        "colab_type": "code",
        "outputId": "d8569bc4-4a1b-4109-c90d-a26bb8542ebf",
        "colab": {
          "base_uri": "https://localhost:8080/",
          "height": 119
        }
      },
      "source": [
        "#Decision Tree\n",
        "model = DecisionTreeClassifier()\n",
        "model.fit(X_train, y_train)"
      ],
      "execution_count": 0,
      "outputs": [
        {
          "output_type": "execute_result",
          "data": {
            "text/plain": [
              "DecisionTreeClassifier(ccp_alpha=0.0, class_weight=None, criterion='gini',\n",
              "                       max_depth=None, max_features=None, max_leaf_nodes=None,\n",
              "                       min_impurity_decrease=0.0, min_impurity_split=None,\n",
              "                       min_samples_leaf=1, min_samples_split=2,\n",
              "                       min_weight_fraction_leaf=0.0, presort='deprecated',\n",
              "                       random_state=None, splitter='best')"
            ]
          },
          "metadata": {
            "tags": []
          },
          "execution_count": 33
        }
      ]
    },
    {
      "cell_type": "code",
      "metadata": {
        "id": "bZDSughWjyqy",
        "colab_type": "code",
        "outputId": "a4986212-31d2-4634-8fd5-9602083b0728",
        "colab": {
          "base_uri": "https://localhost:8080/",
          "height": 34
        }
      },
      "source": [
        "import numpy as np\n",
        "\n",
        "predicted = model.predict(X_test)\n",
        "\n",
        "print(np.mean(predicted == y_test))"
      ],
      "execution_count": 0,
      "outputs": [
        {
          "output_type": "stream",
          "text": [
            "0.6695898161244696\n"
          ],
          "name": "stdout"
        }
      ]
    },
    {
      "cell_type": "code",
      "metadata": {
        "id": "rrotY3dpjyt9",
        "colab_type": "code",
        "outputId": "19eec6f7-d324-4694-b6ae-04896b1af8a6",
        "colab": {
          "base_uri": "https://localhost:8080/",
          "height": 68
        }
      },
      "source": [
        "from sklearn.metrics import confusion_matrix\n",
        "\n",
        "print(confusion_matrix(y_test, predicted))"
      ],
      "execution_count": 0,
      "outputs": [
        {
          "output_type": "stream",
          "text": [
            "[[640 293  68]\n",
            " [266 944 220]\n",
            " [ 69 252 783]]\n"
          ],
          "name": "stdout"
        }
      ]
    },
    {
      "cell_type": "code",
      "metadata": {
        "id": "yiavddp0jyxY",
        "colab_type": "code",
        "outputId": "0ed986b3-6d79-43ab-dbdd-98fbc5ea8453",
        "colab": {
          "base_uri": "https://localhost:8080/",
          "height": 68
        }
      },
      "source": [
        "from sklearn.metrics import f1_score\n",
        "\n",
        "print(f1_score(y_test, predicted, average='micro'))\n",
        "print(f1_score(y_test, predicted, average='macro'))\n",
        "print(f1_score(y_test, predicted, average='weighted'))"
      ],
      "execution_count": 0,
      "outputs": [
        {
          "output_type": "stream",
          "text": [
            "0.6695898161244696\n",
            "0.6715233758626414\n",
            "0.6699350906955094\n"
          ],
          "name": "stdout"
        }
      ]
    },
    {
      "cell_type": "code",
      "metadata": {
        "id": "mWCuxruIkBVk",
        "colab_type": "code",
        "outputId": "69dd2fa8-4e39-400a-d1d1-bc072ca11a3c",
        "colab": {
          "base_uri": "https://localhost:8080/",
          "height": 68
        }
      },
      "source": [
        "from sklearn.metrics import jaccard_score\n",
        "\n",
        "print(jaccard_score(y_test, predicted, average='micro'))\n",
        "print(jaccard_score(y_test, predicted, average='macro'))\n",
        "print(jaccard_score(y_test, predicted, average='weighted'))"
      ],
      "execution_count": 0,
      "outputs": [
        {
          "output_type": "stream",
          "text": [
            "0.5032957686583032\n",
            "0.5065055332373228\n",
            "0.5046746126031646\n"
          ],
          "name": "stdout"
        }
      ]
    },
    {
      "cell_type": "code",
      "metadata": {
        "id": "0GBKLGCpo9ub",
        "colab_type": "code",
        "colab": {}
      },
      "source": [
        ""
      ],
      "execution_count": 0,
      "outputs": []
    }
  ]
}