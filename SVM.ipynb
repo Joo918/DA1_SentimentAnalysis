{
  "nbformat": 4,
  "nbformat_minor": 0,
  "metadata": {
    "colab": {
      "name": "SVM.ipynb",
      "provenance": [],
      "collapsed_sections": []
    },
    "kernelspec": {
      "name": "python3",
      "display_name": "Python 3"
    }
  },
  "cells": [
    {
      "cell_type": "code",
      "metadata": {
        "id": "VEUzgnvOP2tQ",
        "colab_type": "code",
        "outputId": "0dd0637f-ea76-4ccd-bc5b-c660b018bc14",
        "colab": {
          "base_uri": "https://localhost:8080/",
          "height": 34
        }
      },
      "source": [
        "from google.colab import drive\n",
        "drive.mount('/content/drive')"
      ],
      "execution_count": 0,
      "outputs": [
        {
          "output_type": "stream",
          "text": [
            "Drive already mounted at /content/drive; to attempt to forcibly remount, call drive.mount(\"/content/drive\", force_remount=True).\n"
          ],
          "name": "stdout"
        }
      ]
    },
    {
      "cell_type": "markdown",
      "metadata": {
        "id": "ce3DB_YwQLse",
        "colab_type": "text"
      },
      "source": [
        "# New Section"
      ]
    },
    {
      "cell_type": "code",
      "metadata": {
        "id": "4ejPMK79LKUC",
        "colab_type": "code",
        "outputId": "07248587-3a7b-4dfe-98b0-229df463612c",
        "colab": {
          "base_uri": "https://localhost:8080/",
          "height": 470
        }
      },
      "source": [
        "import pandas as pd\n",
        "print(pd.__version__)\n",
        "data = pd.read_csv(\"/content/drive/My Drive/DA_Project/train.csv\")\n",
        "t_data = pd.read_csv(\"/content/drive/My Drive/DA_Project/test.csv\")\n",
        "print(data.shape)\n",
        "print(t_data.shape)\n",
        "#print(data)\n",
        "#print(data.columns)\n",
        "data = data.append(t_data, ignore_index = True)\n",
        "data"
      ],
      "execution_count": 0,
      "outputs": [
        {
          "output_type": "stream",
          "text": [
            "1.0.3\n",
            "(27486, 4)\n",
            "(3535, 3)\n"
          ],
          "name": "stdout"
        },
        {
          "output_type": "execute_result",
          "data": {
            "text/html": [
              "<div>\n",
              "<style scoped>\n",
              "    .dataframe tbody tr th:only-of-type {\n",
              "        vertical-align: middle;\n",
              "    }\n",
              "\n",
              "    .dataframe tbody tr th {\n",
              "        vertical-align: top;\n",
              "    }\n",
              "\n",
              "    .dataframe thead th {\n",
              "        text-align: right;\n",
              "    }\n",
              "</style>\n",
              "<table border=\"1\" class=\"dataframe\">\n",
              "  <thead>\n",
              "    <tr style=\"text-align: right;\">\n",
              "      <th></th>\n",
              "      <th>textID</th>\n",
              "      <th>text</th>\n",
              "      <th>selected_text</th>\n",
              "      <th>sentiment</th>\n",
              "    </tr>\n",
              "  </thead>\n",
              "  <tbody>\n",
              "    <tr>\n",
              "      <th>0</th>\n",
              "      <td>a3d0a7d5ad</td>\n",
              "      <td>Spent the entire morning in a meeting w/ a ven...</td>\n",
              "      <td>my boss was not happy w/ them. Lots of fun.</td>\n",
              "      <td>neutral</td>\n",
              "    </tr>\n",
              "    <tr>\n",
              "      <th>1</th>\n",
              "      <td>251b6a6766</td>\n",
              "      <td>Oh! Good idea about putting them on ice cream</td>\n",
              "      <td>Good</td>\n",
              "      <td>positive</td>\n",
              "    </tr>\n",
              "    <tr>\n",
              "      <th>2</th>\n",
              "      <td>c9e8d1ef1c</td>\n",
              "      <td>says good (or should i say bad?) afternoon!  h...</td>\n",
              "      <td>says good (or should i say bad?) afternoon!</td>\n",
              "      <td>neutral</td>\n",
              "    </tr>\n",
              "    <tr>\n",
              "      <th>3</th>\n",
              "      <td>f14f087215</td>\n",
              "      <td>i dont think you can vote anymore! i tried</td>\n",
              "      <td>i dont think you can vote anymore!</td>\n",
              "      <td>negative</td>\n",
              "    </tr>\n",
              "    <tr>\n",
              "      <th>4</th>\n",
              "      <td>bf7473b12d</td>\n",
              "      <td>haha better drunken tweeting you mean?</td>\n",
              "      <td>better</td>\n",
              "      <td>positive</td>\n",
              "    </tr>\n",
              "    <tr>\n",
              "      <th>...</th>\n",
              "      <td>...</td>\n",
              "      <td>...</td>\n",
              "      <td>...</td>\n",
              "      <td>...</td>\n",
              "    </tr>\n",
              "    <tr>\n",
              "      <th>31016</th>\n",
              "      <td>2f8444db6c</td>\n",
              "      <td>@_shannon1234 Shannie im so sorry! didnt mean ...</td>\n",
              "      <td>NaN</td>\n",
              "      <td>negative</td>\n",
              "    </tr>\n",
              "    <tr>\n",
              "      <th>31017</th>\n",
              "      <td>11de8c0456</td>\n",
              "      <td>Im Slowing on My Tweets..Cuase I Lost My Phone</td>\n",
              "      <td>NaN</td>\n",
              "      <td>negative</td>\n",
              "    </tr>\n",
              "    <tr>\n",
              "      <th>31018</th>\n",
              "      <td>08f6036add</td>\n",
              "      <td>Invasion of the Old Ladies has just ended, sti...</td>\n",
              "      <td>NaN</td>\n",
              "      <td>neutral</td>\n",
              "    </tr>\n",
              "    <tr>\n",
              "      <th>31019</th>\n",
              "      <td>27d6472b81</td>\n",
              "      <td>$#@! My nose stud fell out and I can't find it...</td>\n",
              "      <td>NaN</td>\n",
              "      <td>negative</td>\n",
              "    </tr>\n",
              "    <tr>\n",
              "      <th>31020</th>\n",
              "      <td>aa1a163174</td>\n",
              "      <td>Will do</td>\n",
              "      <td>NaN</td>\n",
              "      <td>neutral</td>\n",
              "    </tr>\n",
              "  </tbody>\n",
              "</table>\n",
              "<p>31021 rows × 4 columns</p>\n",
              "</div>"
            ],
            "text/plain": [
              "           textID  ... sentiment\n",
              "0      a3d0a7d5ad  ...   neutral\n",
              "1      251b6a6766  ...  positive\n",
              "2      c9e8d1ef1c  ...   neutral\n",
              "3      f14f087215  ...  negative\n",
              "4      bf7473b12d  ...  positive\n",
              "...           ...  ...       ...\n",
              "31016  2f8444db6c  ...  negative\n",
              "31017  11de8c0456  ...  negative\n",
              "31018  08f6036add  ...   neutral\n",
              "31019  27d6472b81  ...  negative\n",
              "31020  aa1a163174  ...   neutral\n",
              "\n",
              "[31021 rows x 4 columns]"
            ]
          },
          "metadata": {
            "tags": []
          },
          "execution_count": 17
        }
      ]
    },
    {
      "cell_type": "code",
      "metadata": {
        "id": "PbhOLFxnR-6j",
        "colab_type": "code",
        "outputId": "4c71b119-18c8-42d0-dfb8-aabc7f6de92e",
        "colab": {
          "base_uri": "https://localhost:8080/",
          "height": 419
        }
      },
      "source": [
        "def getLower(x):\n",
        "  #print(x)\n",
        "  if pd.isna(x):\n",
        "    return ''\n",
        "  return x.lower()\n",
        "\n",
        "data = data.astype('string')\n",
        "data['sentiment'] = data['sentiment'].map({'negative': -1, 'neutral': 0, 'positive': 1})\n",
        "data['text'] = data['text'].map(getLower)\n",
        "data['text'] = data['text'].str.replace('[^\\w\\s]', '')\n",
        "data"
      ],
      "execution_count": 0,
      "outputs": [
        {
          "output_type": "execute_result",
          "data": {
            "text/html": [
              "<div>\n",
              "<style scoped>\n",
              "    .dataframe tbody tr th:only-of-type {\n",
              "        vertical-align: middle;\n",
              "    }\n",
              "\n",
              "    .dataframe tbody tr th {\n",
              "        vertical-align: top;\n",
              "    }\n",
              "\n",
              "    .dataframe thead th {\n",
              "        text-align: right;\n",
              "    }\n",
              "</style>\n",
              "<table border=\"1\" class=\"dataframe\">\n",
              "  <thead>\n",
              "    <tr style=\"text-align: right;\">\n",
              "      <th></th>\n",
              "      <th>textID</th>\n",
              "      <th>text</th>\n",
              "      <th>selected_text</th>\n",
              "      <th>sentiment</th>\n",
              "    </tr>\n",
              "  </thead>\n",
              "  <tbody>\n",
              "    <tr>\n",
              "      <th>0</th>\n",
              "      <td>a3d0a7d5ad</td>\n",
              "      <td>spent the entire morning in a meeting w a vend...</td>\n",
              "      <td>my boss was not happy w/ them. Lots of fun.</td>\n",
              "      <td>0</td>\n",
              "    </tr>\n",
              "    <tr>\n",
              "      <th>1</th>\n",
              "      <td>251b6a6766</td>\n",
              "      <td>oh good idea about putting them on ice cream</td>\n",
              "      <td>Good</td>\n",
              "      <td>1</td>\n",
              "    </tr>\n",
              "    <tr>\n",
              "      <th>2</th>\n",
              "      <td>c9e8d1ef1c</td>\n",
              "      <td>says good or should i say bad afternoon  httpp...</td>\n",
              "      <td>says good (or should i say bad?) afternoon!</td>\n",
              "      <td>0</td>\n",
              "    </tr>\n",
              "    <tr>\n",
              "      <th>3</th>\n",
              "      <td>f14f087215</td>\n",
              "      <td>i dont think you can vote anymore i tried</td>\n",
              "      <td>i dont think you can vote anymore!</td>\n",
              "      <td>-1</td>\n",
              "    </tr>\n",
              "    <tr>\n",
              "      <th>4</th>\n",
              "      <td>bf7473b12d</td>\n",
              "      <td>haha better drunken tweeting you mean</td>\n",
              "      <td>better</td>\n",
              "      <td>1</td>\n",
              "    </tr>\n",
              "    <tr>\n",
              "      <th>...</th>\n",
              "      <td>...</td>\n",
              "      <td>...</td>\n",
              "      <td>...</td>\n",
              "      <td>...</td>\n",
              "    </tr>\n",
              "    <tr>\n",
              "      <th>31016</th>\n",
              "      <td>2f8444db6c</td>\n",
              "      <td>_shannon1234 shannie im so sorry didnt mean to...</td>\n",
              "      <td>&lt;NA&gt;</td>\n",
              "      <td>-1</td>\n",
              "    </tr>\n",
              "    <tr>\n",
              "      <th>31017</th>\n",
              "      <td>11de8c0456</td>\n",
              "      <td>im slowing on my tweetscuase i lost my phone</td>\n",
              "      <td>&lt;NA&gt;</td>\n",
              "      <td>-1</td>\n",
              "    </tr>\n",
              "    <tr>\n",
              "      <th>31018</th>\n",
              "      <td>08f6036add</td>\n",
              "      <td>invasion of the old ladies has just ended stil...</td>\n",
              "      <td>&lt;NA&gt;</td>\n",
              "      <td>0</td>\n",
              "    </tr>\n",
              "    <tr>\n",
              "      <th>31019</th>\n",
              "      <td>27d6472b81</td>\n",
              "      <td>my nose stud fell out and i cant find it  loo...</td>\n",
              "      <td>&lt;NA&gt;</td>\n",
              "      <td>-1</td>\n",
              "    </tr>\n",
              "    <tr>\n",
              "      <th>31020</th>\n",
              "      <td>aa1a163174</td>\n",
              "      <td>will do</td>\n",
              "      <td>&lt;NA&gt;</td>\n",
              "      <td>0</td>\n",
              "    </tr>\n",
              "  </tbody>\n",
              "</table>\n",
              "<p>31021 rows × 4 columns</p>\n",
              "</div>"
            ],
            "text/plain": [
              "           textID  ... sentiment\n",
              "0      a3d0a7d5ad  ...         0\n",
              "1      251b6a6766  ...         1\n",
              "2      c9e8d1ef1c  ...         0\n",
              "3      f14f087215  ...        -1\n",
              "4      bf7473b12d  ...         1\n",
              "...           ...  ...       ...\n",
              "31016  2f8444db6c  ...        -1\n",
              "31017  11de8c0456  ...        -1\n",
              "31018  08f6036add  ...         0\n",
              "31019  27d6472b81  ...        -1\n",
              "31020  aa1a163174  ...         0\n",
              "\n",
              "[31021 rows x 4 columns]"
            ]
          },
          "metadata": {
            "tags": []
          },
          "execution_count": 18
        }
      ]
    },
    {
      "cell_type": "code",
      "metadata": {
        "id": "KMP2n6vV_D7t",
        "colab_type": "code",
        "outputId": "ececb18c-707c-40b3-e7f2-9e123ed25e71",
        "colab": {
          "base_uri": "https://localhost:8080/",
          "height": 289
        }
      },
      "source": [
        "#download punkt\n",
        "import nltk\n",
        "nltk.download()"
      ],
      "execution_count": 0,
      "outputs": [
        {
          "output_type": "stream",
          "text": [
            "NLTK Downloader\n",
            "---------------------------------------------------------------------------\n",
            "    d) Download   l) List    u) Update   c) Config   h) Help   q) Quit\n",
            "---------------------------------------------------------------------------\n",
            "Downloader> d\n",
            "\n",
            "Download which package (l=list; x=cancel)?\n",
            "  Identifier> punkt\n",
            "    Downloading package punkt to /root/nltk_data...\n",
            "      Package punkt is already up-to-date!\n",
            "\n",
            "---------------------------------------------------------------------------\n",
            "    d) Download   l) List    u) Update   c) Config   h) Help   q) Quit\n",
            "---------------------------------------------------------------------------\n",
            "Downloader> q\n"
          ],
          "name": "stdout"
        },
        {
          "output_type": "execute_result",
          "data": {
            "text/plain": [
              "True"
            ]
          },
          "metadata": {
            "tags": []
          },
          "execution_count": 19
        }
      ]
    },
    {
      "cell_type": "code",
      "metadata": {
        "id": "6iXaATQB_xDm",
        "colab_type": "code",
        "outputId": "d74d670e-8556-41d7-bc4f-c813e3cabb56",
        "colab": {
          "base_uri": "https://localhost:8080/",
          "height": 419
        }
      },
      "source": [
        "data['text'] = data['text'].apply(nltk.word_tokenize)\n",
        "data"
      ],
      "execution_count": 0,
      "outputs": [
        {
          "output_type": "execute_result",
          "data": {
            "text/html": [
              "<div>\n",
              "<style scoped>\n",
              "    .dataframe tbody tr th:only-of-type {\n",
              "        vertical-align: middle;\n",
              "    }\n",
              "\n",
              "    .dataframe tbody tr th {\n",
              "        vertical-align: top;\n",
              "    }\n",
              "\n",
              "    .dataframe thead th {\n",
              "        text-align: right;\n",
              "    }\n",
              "</style>\n",
              "<table border=\"1\" class=\"dataframe\">\n",
              "  <thead>\n",
              "    <tr style=\"text-align: right;\">\n",
              "      <th></th>\n",
              "      <th>textID</th>\n",
              "      <th>text</th>\n",
              "      <th>selected_text</th>\n",
              "      <th>sentiment</th>\n",
              "    </tr>\n",
              "  </thead>\n",
              "  <tbody>\n",
              "    <tr>\n",
              "      <th>0</th>\n",
              "      <td>a3d0a7d5ad</td>\n",
              "      <td>[spent, the, entire, morning, in, a, meeting, ...</td>\n",
              "      <td>my boss was not happy w/ them. Lots of fun.</td>\n",
              "      <td>0</td>\n",
              "    </tr>\n",
              "    <tr>\n",
              "      <th>1</th>\n",
              "      <td>251b6a6766</td>\n",
              "      <td>[oh, good, idea, about, putting, them, on, ice...</td>\n",
              "      <td>Good</td>\n",
              "      <td>1</td>\n",
              "    </tr>\n",
              "    <tr>\n",
              "      <th>2</th>\n",
              "      <td>c9e8d1ef1c</td>\n",
              "      <td>[says, good, or, should, i, say, bad, afternoo...</td>\n",
              "      <td>says good (or should i say bad?) afternoon!</td>\n",
              "      <td>0</td>\n",
              "    </tr>\n",
              "    <tr>\n",
              "      <th>3</th>\n",
              "      <td>f14f087215</td>\n",
              "      <td>[i, dont, think, you, can, vote, anymore, i, t...</td>\n",
              "      <td>i dont think you can vote anymore!</td>\n",
              "      <td>-1</td>\n",
              "    </tr>\n",
              "    <tr>\n",
              "      <th>4</th>\n",
              "      <td>bf7473b12d</td>\n",
              "      <td>[haha, better, drunken, tweeting, you, mean]</td>\n",
              "      <td>better</td>\n",
              "      <td>1</td>\n",
              "    </tr>\n",
              "    <tr>\n",
              "      <th>...</th>\n",
              "      <td>...</td>\n",
              "      <td>...</td>\n",
              "      <td>...</td>\n",
              "      <td>...</td>\n",
              "    </tr>\n",
              "    <tr>\n",
              "      <th>31016</th>\n",
              "      <td>2f8444db6c</td>\n",
              "      <td>[_shannon1234, shannie, im, so, sorry, didnt, ...</td>\n",
              "      <td>&lt;NA&gt;</td>\n",
              "      <td>-1</td>\n",
              "    </tr>\n",
              "    <tr>\n",
              "      <th>31017</th>\n",
              "      <td>11de8c0456</td>\n",
              "      <td>[im, slowing, on, my, tweetscuase, i, lost, my...</td>\n",
              "      <td>&lt;NA&gt;</td>\n",
              "      <td>-1</td>\n",
              "    </tr>\n",
              "    <tr>\n",
              "      <th>31018</th>\n",
              "      <td>08f6036add</td>\n",
              "      <td>[invasion, of, the, old, ladies, has, just, en...</td>\n",
              "      <td>&lt;NA&gt;</td>\n",
              "      <td>0</td>\n",
              "    </tr>\n",
              "    <tr>\n",
              "      <th>31019</th>\n",
              "      <td>27d6472b81</td>\n",
              "      <td>[my, nose, stud, fell, out, and, i, cant, find...</td>\n",
              "      <td>&lt;NA&gt;</td>\n",
              "      <td>-1</td>\n",
              "    </tr>\n",
              "    <tr>\n",
              "      <th>31020</th>\n",
              "      <td>aa1a163174</td>\n",
              "      <td>[will, do]</td>\n",
              "      <td>&lt;NA&gt;</td>\n",
              "      <td>0</td>\n",
              "    </tr>\n",
              "  </tbody>\n",
              "</table>\n",
              "<p>31021 rows × 4 columns</p>\n",
              "</div>"
            ],
            "text/plain": [
              "           textID  ... sentiment\n",
              "0      a3d0a7d5ad  ...         0\n",
              "1      251b6a6766  ...         1\n",
              "2      c9e8d1ef1c  ...         0\n",
              "3      f14f087215  ...        -1\n",
              "4      bf7473b12d  ...         1\n",
              "...           ...  ...       ...\n",
              "31016  2f8444db6c  ...        -1\n",
              "31017  11de8c0456  ...        -1\n",
              "31018  08f6036add  ...         0\n",
              "31019  27d6472b81  ...        -1\n",
              "31020  aa1a163174  ...         0\n",
              "\n",
              "[31021 rows x 4 columns]"
            ]
          },
          "metadata": {
            "tags": []
          },
          "execution_count": 20
        }
      ]
    },
    {
      "cell_type": "code",
      "metadata": {
        "id": "X_5Ur6rXAFwP",
        "colab_type": "code",
        "outputId": "ceff3e31-72ef-4bb0-e151-9f1d89c8fd85",
        "colab": {
          "base_uri": "https://localhost:8080/",
          "height": 402
        }
      },
      "source": [
        "from nltk.stem import PorterStemmer\n",
        "\n",
        "stemmer = PorterStemmer()\n",
        "data['text'] = data['text'].apply(lambda x: [stemmer.stem(y) for y in x])\n",
        "data"
      ],
      "execution_count": 0,
      "outputs": [
        {
          "output_type": "execute_result",
          "data": {
            "text/html": [
              "<div>\n",
              "<style scoped>\n",
              "    .dataframe tbody tr th:only-of-type {\n",
              "        vertical-align: middle;\n",
              "    }\n",
              "\n",
              "    .dataframe tbody tr th {\n",
              "        vertical-align: top;\n",
              "    }\n",
              "\n",
              "    .dataframe thead th {\n",
              "        text-align: right;\n",
              "    }\n",
              "</style>\n",
              "<table border=\"1\" class=\"dataframe\">\n",
              "  <thead>\n",
              "    <tr style=\"text-align: right;\">\n",
              "      <th></th>\n",
              "      <th>textID</th>\n",
              "      <th>text</th>\n",
              "      <th>selected_text</th>\n",
              "      <th>sentiment</th>\n",
              "    </tr>\n",
              "  </thead>\n",
              "  <tbody>\n",
              "    <tr>\n",
              "      <th>0</th>\n",
              "      <td>a3d0a7d5ad</td>\n",
              "      <td>[spent, the, entir, morn, in, a, meet, w, a, v...</td>\n",
              "      <td>my boss was not happy w/ them. Lots of fun.</td>\n",
              "      <td>0</td>\n",
              "    </tr>\n",
              "    <tr>\n",
              "      <th>1</th>\n",
              "      <td>251b6a6766</td>\n",
              "      <td>[oh, good, idea, about, put, them, on, ice, cr...</td>\n",
              "      <td>Good</td>\n",
              "      <td>1</td>\n",
              "    </tr>\n",
              "    <tr>\n",
              "      <th>2</th>\n",
              "      <td>c9e8d1ef1c</td>\n",
              "      <td>[say, good, or, should, i, say, bad, afternoon...</td>\n",
              "      <td>says good (or should i say bad?) afternoon!</td>\n",
              "      <td>0</td>\n",
              "    </tr>\n",
              "    <tr>\n",
              "      <th>3</th>\n",
              "      <td>f14f087215</td>\n",
              "      <td>[i, dont, think, you, can, vote, anymor, i, tri]</td>\n",
              "      <td>i dont think you can vote anymore!</td>\n",
              "      <td>-1</td>\n",
              "    </tr>\n",
              "    <tr>\n",
              "      <th>4</th>\n",
              "      <td>bf7473b12d</td>\n",
              "      <td>[haha, better, drunken, tweet, you, mean]</td>\n",
              "      <td>better</td>\n",
              "      <td>1</td>\n",
              "    </tr>\n",
              "    <tr>\n",
              "      <th>...</th>\n",
              "      <td>...</td>\n",
              "      <td>...</td>\n",
              "      <td>...</td>\n",
              "      <td>...</td>\n",
              "    </tr>\n",
              "    <tr>\n",
              "      <th>31016</th>\n",
              "      <td>2f8444db6c</td>\n",
              "      <td>[_shannon1234, shanni, im, so, sorri, didnt, m...</td>\n",
              "      <td>&lt;NA&gt;</td>\n",
              "      <td>-1</td>\n",
              "    </tr>\n",
              "    <tr>\n",
              "      <th>31017</th>\n",
              "      <td>11de8c0456</td>\n",
              "      <td>[im, slow, on, my, tweetscuas, i, lost, my, ph...</td>\n",
              "      <td>&lt;NA&gt;</td>\n",
              "      <td>-1</td>\n",
              "    </tr>\n",
              "    <tr>\n",
              "      <th>31018</th>\n",
              "      <td>08f6036add</td>\n",
              "      <td>[invas, of, the, old, ladi, ha, just, end, sti...</td>\n",
              "      <td>&lt;NA&gt;</td>\n",
              "      <td>0</td>\n",
              "    </tr>\n",
              "    <tr>\n",
              "      <th>31019</th>\n",
              "      <td>27d6472b81</td>\n",
              "      <td>[my, nose, stud, fell, out, and, i, cant, find...</td>\n",
              "      <td>&lt;NA&gt;</td>\n",
              "      <td>-1</td>\n",
              "    </tr>\n",
              "    <tr>\n",
              "      <th>31020</th>\n",
              "      <td>aa1a163174</td>\n",
              "      <td>[will, do]</td>\n",
              "      <td>&lt;NA&gt;</td>\n",
              "      <td>0</td>\n",
              "    </tr>\n",
              "  </tbody>\n",
              "</table>\n",
              "<p>31021 rows × 4 columns</p>\n",
              "</div>"
            ],
            "text/plain": [
              "           textID  ... sentiment\n",
              "0      a3d0a7d5ad  ...         0\n",
              "1      251b6a6766  ...         1\n",
              "2      c9e8d1ef1c  ...         0\n",
              "3      f14f087215  ...        -1\n",
              "4      bf7473b12d  ...         1\n",
              "...           ...  ...       ...\n",
              "31016  2f8444db6c  ...        -1\n",
              "31017  11de8c0456  ...        -1\n",
              "31018  08f6036add  ...         0\n",
              "31019  27d6472b81  ...        -1\n",
              "31020  aa1a163174  ...         0\n",
              "\n",
              "[31021 rows x 4 columns]"
            ]
          },
          "metadata": {
            "tags": []
          },
          "execution_count": 21
        }
      ]
    },
    {
      "cell_type": "code",
      "metadata": {
        "id": "aehuJXeNAXBp",
        "colab_type": "code",
        "outputId": "21863250-7a7b-4bc4-8a03-3351eda3efd5",
        "colab": {
          "base_uri": "https://localhost:8080/",
          "height": 354
        }
      },
      "source": [
        "from sklearn.feature_extraction.text import CountVectorizer\n",
        "\n",
        "data['text'] = data['text'].apply(lambda x: ' '.join(x))\n",
        "\n",
        "count_vect = CountVectorizer()\n",
        "counts = count_vect.fit_transform(data['text'])"
      ],
      "execution_count": 0,
      "outputs": [
        {
          "output_type": "error",
          "ename": "ValueError",
          "evalue": "ignored",
          "traceback": [
            "\u001b[0;31m---------------------------------------------------------------------------\u001b[0m",
            "\u001b[0;31mValueError\u001b[0m                                Traceback (most recent call last)",
            "\u001b[0;32m<ipython-input-26-f0dd58ab9caa>\u001b[0m in \u001b[0;36m<module>\u001b[0;34m()\u001b[0m\n\u001b[1;32m      4\u001b[0m \u001b[0;34m\u001b[0m\u001b[0m\n\u001b[1;32m      5\u001b[0m \u001b[0mcount_vect\u001b[0m \u001b[0;34m=\u001b[0m \u001b[0mCountVectorizer\u001b[0m\u001b[0;34m(\u001b[0m\u001b[0;34m)\u001b[0m\u001b[0;34m\u001b[0m\u001b[0;34m\u001b[0m\u001b[0m\n\u001b[0;32m----> 6\u001b[0;31m \u001b[0mcounts\u001b[0m \u001b[0;34m=\u001b[0m \u001b[0mcount_vect\u001b[0m\u001b[0;34m.\u001b[0m\u001b[0mfit_transform\u001b[0m\u001b[0;34m(\u001b[0m\u001b[0mdata\u001b[0m\u001b[0;34m[\u001b[0m\u001b[0;34m'text'\u001b[0m\u001b[0;34m]\u001b[0m\u001b[0;34m)\u001b[0m\u001b[0;34m\u001b[0m\u001b[0;34m\u001b[0m\u001b[0m\n\u001b[0m\u001b[1;32m      7\u001b[0m \u001b[0mcounts\u001b[0m\u001b[0;34m\u001b[0m\u001b[0;34m\u001b[0m\u001b[0m\n",
            "\u001b[0;32m/usr/local/lib/python3.6/dist-packages/sklearn/feature_extraction/text.py\u001b[0m in \u001b[0;36mfit_transform\u001b[0;34m(self, raw_documents, y)\u001b[0m\n\u001b[1;32m   1218\u001b[0m \u001b[0;34m\u001b[0m\u001b[0m\n\u001b[1;32m   1219\u001b[0m         vocabulary, X = self._count_vocab(raw_documents,\n\u001b[0;32m-> 1220\u001b[0;31m                                           self.fixed_vocabulary_)\n\u001b[0m\u001b[1;32m   1221\u001b[0m \u001b[0;34m\u001b[0m\u001b[0m\n\u001b[1;32m   1222\u001b[0m         \u001b[0;32mif\u001b[0m \u001b[0mself\u001b[0m\u001b[0;34m.\u001b[0m\u001b[0mbinary\u001b[0m\u001b[0;34m:\u001b[0m\u001b[0;34m\u001b[0m\u001b[0;34m\u001b[0m\u001b[0m\n",
            "\u001b[0;32m/usr/local/lib/python3.6/dist-packages/sklearn/feature_extraction/text.py\u001b[0m in \u001b[0;36m_count_vocab\u001b[0;34m(self, raw_documents, fixed_vocab)\u001b[0m\n\u001b[1;32m   1148\u001b[0m             \u001b[0mvocabulary\u001b[0m \u001b[0;34m=\u001b[0m \u001b[0mdict\u001b[0m\u001b[0;34m(\u001b[0m\u001b[0mvocabulary\u001b[0m\u001b[0;34m)\u001b[0m\u001b[0;34m\u001b[0m\u001b[0;34m\u001b[0m\u001b[0m\n\u001b[1;32m   1149\u001b[0m             \u001b[0;32mif\u001b[0m \u001b[0;32mnot\u001b[0m \u001b[0mvocabulary\u001b[0m\u001b[0;34m:\u001b[0m\u001b[0;34m\u001b[0m\u001b[0;34m\u001b[0m\u001b[0m\n\u001b[0;32m-> 1150\u001b[0;31m                 raise ValueError(\"empty vocabulary; perhaps the documents only\"\n\u001b[0m\u001b[1;32m   1151\u001b[0m                                  \" contain stop words\")\n\u001b[1;32m   1152\u001b[0m \u001b[0;34m\u001b[0m\u001b[0m\n",
            "\u001b[0;31mValueError\u001b[0m: empty vocabulary; perhaps the documents only contain stop words"
          ]
        }
      ]
    },
    {
      "cell_type": "code",
      "metadata": {
        "id": "R0Edy1bhAtS1",
        "colab_type": "code",
        "colab": {}
      },
      "source": [
        "from sklearn.feature_extraction.text import TfidfTransformer\n",
        "\n",
        "transformer = TfidfTransformer().fit(counts)\n",
        "\n",
        "counts = transformer.transform(counts)"
      ],
      "execution_count": 0,
      "outputs": []
    },
    {
      "cell_type": "code",
      "metadata": {
        "id": "9FUEnstZA7hs",
        "colab_type": "code",
        "colab": {}
      },
      "source": [
        "from sklearn.model_selection import train_test_split\n",
        "\n",
        "X_train, X_test, y_train, y_test = train_test_split(counts, data['sentiment'], test_size=3535, shuffle=False, stratify=None)"
      ],
      "execution_count": 0,
      "outputs": []
    },
    {
      "cell_type": "code",
      "metadata": {
        "id": "8pCloAlHBRkc",
        "colab_type": "code",
        "outputId": "a987b092-2692-46c6-a179-8e16f45c0ed3",
        "colab": {
          "base_uri": "https://localhost:8080/",
          "height": 84
        }
      },
      "source": [
        "from sklearn.svm import SVC\n",
        "model = SVC(kernel='linear')\n",
        "model.fit(X_train, y_train)"
      ],
      "execution_count": 0,
      "outputs": [
        {
          "output_type": "execute_result",
          "data": {
            "text/plain": [
              "SVC(C=1.0, break_ties=False, cache_size=200, class_weight=None, coef0=0.0,\n",
              "    decision_function_shape='ovr', degree=3, gamma='scale', kernel='linear',\n",
              "    max_iter=-1, probability=False, random_state=None, shrinking=True,\n",
              "    tol=0.001, verbose=False)"
            ]
          },
          "metadata": {
            "tags": []
          },
          "execution_count": 25
        }
      ]
    },
    {
      "cell_type": "code",
      "metadata": {
        "id": "x6WvsXCvBUPg",
        "colab_type": "code",
        "outputId": "9498ea33-acfa-4b79-b5c4-562a251d752b",
        "colab": {
          "base_uri": "https://localhost:8080/",
          "height": 34
        }
      },
      "source": [
        "import numpy as np\n",
        "\n",
        "predicted = model.predict(X_test)\n",
        "\n",
        "print(np.mean(predicted == y_test))"
      ],
      "execution_count": 0,
      "outputs": [
        {
          "output_type": "stream",
          "text": [
            "0.7114568599717115\n"
          ],
          "name": "stdout"
        }
      ]
    },
    {
      "cell_type": "code",
      "metadata": {
        "id": "itrP97l1BeAb",
        "colab_type": "code",
        "outputId": "9b4d9af3-2a06-4f16-8d60-d7cf89a3e713",
        "colab": {
          "base_uri": "https://localhost:8080/",
          "height": 67
        }
      },
      "source": [
        "from sklearn.metrics import confusion_matrix\n",
        "\n",
        "print(confusion_matrix(y_test, predicted))"
      ],
      "execution_count": 0,
      "outputs": [
        {
          "output_type": "stream",
          "text": [
            "[[ 641  334   26]\n",
            " [ 201 1093  136]\n",
            " [  51  272  781]]\n"
          ],
          "name": "stdout"
        }
      ]
    },
    {
      "cell_type": "code",
      "metadata": {
        "id": "cEbZawy2AAQA",
        "colab_type": "code",
        "outputId": "54454754-7e34-46c9-c179-182becb0c684",
        "colab": {
          "base_uri": "https://localhost:8080/",
          "height": 67
        }
      },
      "source": [
        "from sklearn.metrics import f1_score\n",
        "\n",
        "print(f1_score(y_test, predicted, average='micro'))\n",
        "print(f1_score(y_test, predicted, average='macro'))\n",
        "print(f1_score(y_test, predicted, average='weighted'))"
      ],
      "execution_count": 0,
      "outputs": [
        {
          "output_type": "stream",
          "text": [
            "0.7114568599717114\n",
            "0.7128560010998951\n",
            "0.7125920837521782\n"
          ],
          "name": "stdout"
        }
      ]
    },
    {
      "cell_type": "code",
      "metadata": {
        "id": "bqwvrsdNAvKZ",
        "colab_type": "code",
        "outputId": "fe6ff38c-ac46-4052-c67a-46275d4fa97d",
        "colab": {
          "base_uri": "https://localhost:8080/",
          "height": 67
        }
      },
      "source": [
        "from sklearn.metrics import jaccard_score\n",
        "\n",
        "print(jaccard_score(y_test, predicted, average='micro'))\n",
        "print(jaccard_score(y_test, predicted, average='macro'))\n",
        "print(jaccard_score(y_test, predicted, average='weighted'))"
      ],
      "execution_count": 0,
      "outputs": [
        {
          "output_type": "stream",
          "text": [
            "0.5521405049396267\n",
            "0.555104265104777\n",
            "0.5546880417385829\n"
          ],
          "name": "stdout"
        }
      ]
    },
    {
      "cell_type": "code",
      "metadata": {
        "id": "039V1rBu6LRD",
        "colab_type": "code",
        "colab": {}
      },
      "source": [
        ""
      ],
      "execution_count": 0,
      "outputs": []
    }
  ]
}