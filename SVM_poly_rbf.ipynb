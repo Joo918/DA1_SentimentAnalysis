{
  "nbformat": 4,
  "nbformat_minor": 0,
  "metadata": {
    "colab": {
      "name": "SVM_poly_rbf.ipynb",
      "provenance": [],
      "collapsed_sections": []
    },
    "kernelspec": {
      "name": "python3",
      "display_name": "Python 3"
    }
  },
  "cells": [
    {
      "cell_type": "code",
      "metadata": {
        "id": "VEUzgnvOP2tQ",
        "colab_type": "code",
        "outputId": "a0283874-b6b2-4ae0-97dc-c43afbb6020c",
        "colab": {
          "base_uri": "https://localhost:8080/",
          "height": 122
        }
      },
      "source": [
        "from google.colab import drive\n",
        "drive.mount('/content/drive')"
      ],
      "execution_count": 0,
      "outputs": [
        {
          "output_type": "stream",
          "text": [
            "Go to this URL in a browser: https://accounts.google.com/o/oauth2/auth?client_id=947318989803-6bn6qk8qdgf4n4g3pfee6491hc0brc4i.apps.googleusercontent.com&redirect_uri=urn%3aietf%3awg%3aoauth%3a2.0%3aoob&response_type=code&scope=email%20https%3a%2f%2fwww.googleapis.com%2fauth%2fdocs.test%20https%3a%2f%2fwww.googleapis.com%2fauth%2fdrive%20https%3a%2f%2fwww.googleapis.com%2fauth%2fdrive.photos.readonly%20https%3a%2f%2fwww.googleapis.com%2fauth%2fpeopleapi.readonly\n",
            "\n",
            "Enter your authorization code:\n",
            "··········\n",
            "Mounted at /content/drive\n"
          ],
          "name": "stdout"
        }
      ]
    },
    {
      "cell_type": "markdown",
      "metadata": {
        "id": "ce3DB_YwQLse",
        "colab_type": "text"
      },
      "source": [
        "# New Section"
      ]
    },
    {
      "cell_type": "code",
      "metadata": {
        "id": "4ejPMK79LKUC",
        "colab_type": "code",
        "outputId": "8a005693-fff6-42bb-b349-95a741b315ab",
        "colab": {
          "base_uri": "https://localhost:8080/",
          "height": 470
        }
      },
      "source": [
        "import pandas as pd\n",
        "print(pd.__version__)\n",
        "data = pd.read_csv(\"/content/drive/My Drive/DA_Project/train.csv\")\n",
        "t_data = pd.read_csv(\"/content/drive/My Drive/DA_Project/test.csv\")\n",
        "print(data.shape)\n",
        "print(t_data.shape)\n",
        "#print(data)\n",
        "#print(data.columns)\n",
        "data = data.append(t_data, ignore_index = True)\n",
        "data"
      ],
      "execution_count": 0,
      "outputs": [
        {
          "output_type": "stream",
          "text": [
            "1.0.3\n",
            "(27486, 4)\n",
            "(3535, 3)\n"
          ],
          "name": "stdout"
        },
        {
          "output_type": "execute_result",
          "data": {
            "text/html": [
              "<div>\n",
              "<style scoped>\n",
              "    .dataframe tbody tr th:only-of-type {\n",
              "        vertical-align: middle;\n",
              "    }\n",
              "\n",
              "    .dataframe tbody tr th {\n",
              "        vertical-align: top;\n",
              "    }\n",
              "\n",
              "    .dataframe thead th {\n",
              "        text-align: right;\n",
              "    }\n",
              "</style>\n",
              "<table border=\"1\" class=\"dataframe\">\n",
              "  <thead>\n",
              "    <tr style=\"text-align: right;\">\n",
              "      <th></th>\n",
              "      <th>textID</th>\n",
              "      <th>text</th>\n",
              "      <th>selected_text</th>\n",
              "      <th>sentiment</th>\n",
              "    </tr>\n",
              "  </thead>\n",
              "  <tbody>\n",
              "    <tr>\n",
              "      <th>0</th>\n",
              "      <td>a3d0a7d5ad</td>\n",
              "      <td>Spent the entire morning in a meeting w/ a ven...</td>\n",
              "      <td>my boss was not happy w/ them. Lots of fun.</td>\n",
              "      <td>neutral</td>\n",
              "    </tr>\n",
              "    <tr>\n",
              "      <th>1</th>\n",
              "      <td>251b6a6766</td>\n",
              "      <td>Oh! Good idea about putting them on ice cream</td>\n",
              "      <td>Good</td>\n",
              "      <td>positive</td>\n",
              "    </tr>\n",
              "    <tr>\n",
              "      <th>2</th>\n",
              "      <td>c9e8d1ef1c</td>\n",
              "      <td>says good (or should i say bad?) afternoon!  h...</td>\n",
              "      <td>says good (or should i say bad?) afternoon!</td>\n",
              "      <td>neutral</td>\n",
              "    </tr>\n",
              "    <tr>\n",
              "      <th>3</th>\n",
              "      <td>f14f087215</td>\n",
              "      <td>i dont think you can vote anymore! i tried</td>\n",
              "      <td>i dont think you can vote anymore!</td>\n",
              "      <td>negative</td>\n",
              "    </tr>\n",
              "    <tr>\n",
              "      <th>4</th>\n",
              "      <td>bf7473b12d</td>\n",
              "      <td>haha better drunken tweeting you mean?</td>\n",
              "      <td>better</td>\n",
              "      <td>positive</td>\n",
              "    </tr>\n",
              "    <tr>\n",
              "      <th>...</th>\n",
              "      <td>...</td>\n",
              "      <td>...</td>\n",
              "      <td>...</td>\n",
              "      <td>...</td>\n",
              "    </tr>\n",
              "    <tr>\n",
              "      <th>31016</th>\n",
              "      <td>2f8444db6c</td>\n",
              "      <td>@_shannon1234 Shannie im so sorry! didnt mean ...</td>\n",
              "      <td>NaN</td>\n",
              "      <td>negative</td>\n",
              "    </tr>\n",
              "    <tr>\n",
              "      <th>31017</th>\n",
              "      <td>11de8c0456</td>\n",
              "      <td>Im Slowing on My Tweets..Cuase I Lost My Phone</td>\n",
              "      <td>NaN</td>\n",
              "      <td>negative</td>\n",
              "    </tr>\n",
              "    <tr>\n",
              "      <th>31018</th>\n",
              "      <td>08f6036add</td>\n",
              "      <td>Invasion of the Old Ladies has just ended, sti...</td>\n",
              "      <td>NaN</td>\n",
              "      <td>neutral</td>\n",
              "    </tr>\n",
              "    <tr>\n",
              "      <th>31019</th>\n",
              "      <td>27d6472b81</td>\n",
              "      <td>$#@! My nose stud fell out and I can't find it...</td>\n",
              "      <td>NaN</td>\n",
              "      <td>negative</td>\n",
              "    </tr>\n",
              "    <tr>\n",
              "      <th>31020</th>\n",
              "      <td>aa1a163174</td>\n",
              "      <td>Will do</td>\n",
              "      <td>NaN</td>\n",
              "      <td>neutral</td>\n",
              "    </tr>\n",
              "  </tbody>\n",
              "</table>\n",
              "<p>31021 rows × 4 columns</p>\n",
              "</div>"
            ],
            "text/plain": [
              "           textID  ... sentiment\n",
              "0      a3d0a7d5ad  ...   neutral\n",
              "1      251b6a6766  ...  positive\n",
              "2      c9e8d1ef1c  ...   neutral\n",
              "3      f14f087215  ...  negative\n",
              "4      bf7473b12d  ...  positive\n",
              "...           ...  ...       ...\n",
              "31016  2f8444db6c  ...  negative\n",
              "31017  11de8c0456  ...  negative\n",
              "31018  08f6036add  ...   neutral\n",
              "31019  27d6472b81  ...  negative\n",
              "31020  aa1a163174  ...   neutral\n",
              "\n",
              "[31021 rows x 4 columns]"
            ]
          },
          "metadata": {
            "tags": []
          },
          "execution_count": 2
        }
      ]
    },
    {
      "cell_type": "code",
      "metadata": {
        "id": "PbhOLFxnR-6j",
        "colab_type": "code",
        "outputId": "e8d26496-6c69-423d-bbe6-174f7ef0efbd",
        "colab": {
          "base_uri": "https://localhost:8080/",
          "height": 419
        }
      },
      "source": [
        "def getLower(x):\n",
        "  #print(x)\n",
        "  if pd.isna(x):\n",
        "    return ''\n",
        "  return x.lower()\n",
        "\n",
        "data = data.astype('string')\n",
        "data['sentiment'] = data['sentiment'].map({'negative': -1, 'neutral': 0, 'positive': 1})\n",
        "data['text'] = data['text'].map(getLower)\n",
        "data['text'] = data['text'].str.replace('[^\\w\\s]', '')\n",
        "data"
      ],
      "execution_count": 0,
      "outputs": [
        {
          "output_type": "execute_result",
          "data": {
            "text/html": [
              "<div>\n",
              "<style scoped>\n",
              "    .dataframe tbody tr th:only-of-type {\n",
              "        vertical-align: middle;\n",
              "    }\n",
              "\n",
              "    .dataframe tbody tr th {\n",
              "        vertical-align: top;\n",
              "    }\n",
              "\n",
              "    .dataframe thead th {\n",
              "        text-align: right;\n",
              "    }\n",
              "</style>\n",
              "<table border=\"1\" class=\"dataframe\">\n",
              "  <thead>\n",
              "    <tr style=\"text-align: right;\">\n",
              "      <th></th>\n",
              "      <th>textID</th>\n",
              "      <th>text</th>\n",
              "      <th>selected_text</th>\n",
              "      <th>sentiment</th>\n",
              "    </tr>\n",
              "  </thead>\n",
              "  <tbody>\n",
              "    <tr>\n",
              "      <th>0</th>\n",
              "      <td>a3d0a7d5ad</td>\n",
              "      <td>spent the entire morning in a meeting w a vend...</td>\n",
              "      <td>my boss was not happy w/ them. Lots of fun.</td>\n",
              "      <td>0</td>\n",
              "    </tr>\n",
              "    <tr>\n",
              "      <th>1</th>\n",
              "      <td>251b6a6766</td>\n",
              "      <td>oh good idea about putting them on ice cream</td>\n",
              "      <td>Good</td>\n",
              "      <td>1</td>\n",
              "    </tr>\n",
              "    <tr>\n",
              "      <th>2</th>\n",
              "      <td>c9e8d1ef1c</td>\n",
              "      <td>says good or should i say bad afternoon  httpp...</td>\n",
              "      <td>says good (or should i say bad?) afternoon!</td>\n",
              "      <td>0</td>\n",
              "    </tr>\n",
              "    <tr>\n",
              "      <th>3</th>\n",
              "      <td>f14f087215</td>\n",
              "      <td>i dont think you can vote anymore i tried</td>\n",
              "      <td>i dont think you can vote anymore!</td>\n",
              "      <td>-1</td>\n",
              "    </tr>\n",
              "    <tr>\n",
              "      <th>4</th>\n",
              "      <td>bf7473b12d</td>\n",
              "      <td>haha better drunken tweeting you mean</td>\n",
              "      <td>better</td>\n",
              "      <td>1</td>\n",
              "    </tr>\n",
              "    <tr>\n",
              "      <th>...</th>\n",
              "      <td>...</td>\n",
              "      <td>...</td>\n",
              "      <td>...</td>\n",
              "      <td>...</td>\n",
              "    </tr>\n",
              "    <tr>\n",
              "      <th>31016</th>\n",
              "      <td>2f8444db6c</td>\n",
              "      <td>_shannon1234 shannie im so sorry didnt mean to...</td>\n",
              "      <td>&lt;NA&gt;</td>\n",
              "      <td>-1</td>\n",
              "    </tr>\n",
              "    <tr>\n",
              "      <th>31017</th>\n",
              "      <td>11de8c0456</td>\n",
              "      <td>im slowing on my tweetscuase i lost my phone</td>\n",
              "      <td>&lt;NA&gt;</td>\n",
              "      <td>-1</td>\n",
              "    </tr>\n",
              "    <tr>\n",
              "      <th>31018</th>\n",
              "      <td>08f6036add</td>\n",
              "      <td>invasion of the old ladies has just ended stil...</td>\n",
              "      <td>&lt;NA&gt;</td>\n",
              "      <td>0</td>\n",
              "    </tr>\n",
              "    <tr>\n",
              "      <th>31019</th>\n",
              "      <td>27d6472b81</td>\n",
              "      <td>my nose stud fell out and i cant find it  loo...</td>\n",
              "      <td>&lt;NA&gt;</td>\n",
              "      <td>-1</td>\n",
              "    </tr>\n",
              "    <tr>\n",
              "      <th>31020</th>\n",
              "      <td>aa1a163174</td>\n",
              "      <td>will do</td>\n",
              "      <td>&lt;NA&gt;</td>\n",
              "      <td>0</td>\n",
              "    </tr>\n",
              "  </tbody>\n",
              "</table>\n",
              "<p>31021 rows × 4 columns</p>\n",
              "</div>"
            ],
            "text/plain": [
              "           textID  ... sentiment\n",
              "0      a3d0a7d5ad  ...         0\n",
              "1      251b6a6766  ...         1\n",
              "2      c9e8d1ef1c  ...         0\n",
              "3      f14f087215  ...        -1\n",
              "4      bf7473b12d  ...         1\n",
              "...           ...  ...       ...\n",
              "31016  2f8444db6c  ...        -1\n",
              "31017  11de8c0456  ...        -1\n",
              "31018  08f6036add  ...         0\n",
              "31019  27d6472b81  ...        -1\n",
              "31020  aa1a163174  ...         0\n",
              "\n",
              "[31021 rows x 4 columns]"
            ]
          },
          "metadata": {
            "tags": []
          },
          "execution_count": 3
        }
      ]
    },
    {
      "cell_type": "code",
      "metadata": {
        "id": "KMP2n6vV_D7t",
        "colab_type": "code",
        "outputId": "5a6a3215-b137-44c6-830c-01011a27c9c9",
        "colab": {
          "base_uri": "https://localhost:8080/",
          "height": 289
        }
      },
      "source": [
        "#download punkt\n",
        "import nltk\n",
        "nltk.download()"
      ],
      "execution_count": 0,
      "outputs": [
        {
          "output_type": "stream",
          "text": [
            "NLTK Downloader\n",
            "---------------------------------------------------------------------------\n",
            "    d) Download   l) List    u) Update   c) Config   h) Help   q) Quit\n",
            "---------------------------------------------------------------------------\n",
            "Downloader> d\n",
            "\n",
            "Download which package (l=list; x=cancel)?\n",
            "  Identifier> punkt\n",
            "    Downloading package punkt to /root/nltk_data...\n",
            "      Unzipping tokenizers/punkt.zip.\n",
            "\n",
            "---------------------------------------------------------------------------\n",
            "    d) Download   l) List    u) Update   c) Config   h) Help   q) Quit\n",
            "---------------------------------------------------------------------------\n",
            "Downloader> q\n"
          ],
          "name": "stdout"
        },
        {
          "output_type": "execute_result",
          "data": {
            "text/plain": [
              "True"
            ]
          },
          "metadata": {
            "tags": []
          },
          "execution_count": 4
        }
      ]
    },
    {
      "cell_type": "code",
      "metadata": {
        "id": "6iXaATQB_xDm",
        "colab_type": "code",
        "outputId": "6ffa43a4-821e-42de-95c9-252b703ba0b2",
        "colab": {
          "base_uri": "https://localhost:8080/",
          "height": 419
        }
      },
      "source": [
        "data['text'] = data['text'].apply(nltk.word_tokenize)\n",
        "data"
      ],
      "execution_count": 0,
      "outputs": [
        {
          "output_type": "execute_result",
          "data": {
            "text/html": [
              "<div>\n",
              "<style scoped>\n",
              "    .dataframe tbody tr th:only-of-type {\n",
              "        vertical-align: middle;\n",
              "    }\n",
              "\n",
              "    .dataframe tbody tr th {\n",
              "        vertical-align: top;\n",
              "    }\n",
              "\n",
              "    .dataframe thead th {\n",
              "        text-align: right;\n",
              "    }\n",
              "</style>\n",
              "<table border=\"1\" class=\"dataframe\">\n",
              "  <thead>\n",
              "    <tr style=\"text-align: right;\">\n",
              "      <th></th>\n",
              "      <th>textID</th>\n",
              "      <th>text</th>\n",
              "      <th>selected_text</th>\n",
              "      <th>sentiment</th>\n",
              "    </tr>\n",
              "  </thead>\n",
              "  <tbody>\n",
              "    <tr>\n",
              "      <th>0</th>\n",
              "      <td>a3d0a7d5ad</td>\n",
              "      <td>[spent, the, entire, morning, in, a, meeting, ...</td>\n",
              "      <td>my boss was not happy w/ them. Lots of fun.</td>\n",
              "      <td>0</td>\n",
              "    </tr>\n",
              "    <tr>\n",
              "      <th>1</th>\n",
              "      <td>251b6a6766</td>\n",
              "      <td>[oh, good, idea, about, putting, them, on, ice...</td>\n",
              "      <td>Good</td>\n",
              "      <td>1</td>\n",
              "    </tr>\n",
              "    <tr>\n",
              "      <th>2</th>\n",
              "      <td>c9e8d1ef1c</td>\n",
              "      <td>[says, good, or, should, i, say, bad, afternoo...</td>\n",
              "      <td>says good (or should i say bad?) afternoon!</td>\n",
              "      <td>0</td>\n",
              "    </tr>\n",
              "    <tr>\n",
              "      <th>3</th>\n",
              "      <td>f14f087215</td>\n",
              "      <td>[i, dont, think, you, can, vote, anymore, i, t...</td>\n",
              "      <td>i dont think you can vote anymore!</td>\n",
              "      <td>-1</td>\n",
              "    </tr>\n",
              "    <tr>\n",
              "      <th>4</th>\n",
              "      <td>bf7473b12d</td>\n",
              "      <td>[haha, better, drunken, tweeting, you, mean]</td>\n",
              "      <td>better</td>\n",
              "      <td>1</td>\n",
              "    </tr>\n",
              "    <tr>\n",
              "      <th>...</th>\n",
              "      <td>...</td>\n",
              "      <td>...</td>\n",
              "      <td>...</td>\n",
              "      <td>...</td>\n",
              "    </tr>\n",
              "    <tr>\n",
              "      <th>31016</th>\n",
              "      <td>2f8444db6c</td>\n",
              "      <td>[_shannon1234, shannie, im, so, sorry, didnt, ...</td>\n",
              "      <td>&lt;NA&gt;</td>\n",
              "      <td>-1</td>\n",
              "    </tr>\n",
              "    <tr>\n",
              "      <th>31017</th>\n",
              "      <td>11de8c0456</td>\n",
              "      <td>[im, slowing, on, my, tweetscuase, i, lost, my...</td>\n",
              "      <td>&lt;NA&gt;</td>\n",
              "      <td>-1</td>\n",
              "    </tr>\n",
              "    <tr>\n",
              "      <th>31018</th>\n",
              "      <td>08f6036add</td>\n",
              "      <td>[invasion, of, the, old, ladies, has, just, en...</td>\n",
              "      <td>&lt;NA&gt;</td>\n",
              "      <td>0</td>\n",
              "    </tr>\n",
              "    <tr>\n",
              "      <th>31019</th>\n",
              "      <td>27d6472b81</td>\n",
              "      <td>[my, nose, stud, fell, out, and, i, cant, find...</td>\n",
              "      <td>&lt;NA&gt;</td>\n",
              "      <td>-1</td>\n",
              "    </tr>\n",
              "    <tr>\n",
              "      <th>31020</th>\n",
              "      <td>aa1a163174</td>\n",
              "      <td>[will, do]</td>\n",
              "      <td>&lt;NA&gt;</td>\n",
              "      <td>0</td>\n",
              "    </tr>\n",
              "  </tbody>\n",
              "</table>\n",
              "<p>31021 rows × 4 columns</p>\n",
              "</div>"
            ],
            "text/plain": [
              "           textID  ... sentiment\n",
              "0      a3d0a7d5ad  ...         0\n",
              "1      251b6a6766  ...         1\n",
              "2      c9e8d1ef1c  ...         0\n",
              "3      f14f087215  ...        -1\n",
              "4      bf7473b12d  ...         1\n",
              "...           ...  ...       ...\n",
              "31016  2f8444db6c  ...        -1\n",
              "31017  11de8c0456  ...        -1\n",
              "31018  08f6036add  ...         0\n",
              "31019  27d6472b81  ...        -1\n",
              "31020  aa1a163174  ...         0\n",
              "\n",
              "[31021 rows x 4 columns]"
            ]
          },
          "metadata": {
            "tags": []
          },
          "execution_count": 5
        }
      ]
    },
    {
      "cell_type": "code",
      "metadata": {
        "id": "X_5Ur6rXAFwP",
        "colab_type": "code",
        "outputId": "559b67c1-3dde-4efe-b26a-e6377e44e698",
        "colab": {
          "base_uri": "https://localhost:8080/",
          "height": 419
        }
      },
      "source": [
        "from nltk.stem import PorterStemmer\n",
        "\n",
        "stemmer = PorterStemmer()\n",
        "data['text'] = data['text'].apply(lambda x: [stemmer.stem(y) for y in x])\n",
        "data"
      ],
      "execution_count": 0,
      "outputs": [
        {
          "output_type": "execute_result",
          "data": {
            "text/html": [
              "<div>\n",
              "<style scoped>\n",
              "    .dataframe tbody tr th:only-of-type {\n",
              "        vertical-align: middle;\n",
              "    }\n",
              "\n",
              "    .dataframe tbody tr th {\n",
              "        vertical-align: top;\n",
              "    }\n",
              "\n",
              "    .dataframe thead th {\n",
              "        text-align: right;\n",
              "    }\n",
              "</style>\n",
              "<table border=\"1\" class=\"dataframe\">\n",
              "  <thead>\n",
              "    <tr style=\"text-align: right;\">\n",
              "      <th></th>\n",
              "      <th>textID</th>\n",
              "      <th>text</th>\n",
              "      <th>selected_text</th>\n",
              "      <th>sentiment</th>\n",
              "    </tr>\n",
              "  </thead>\n",
              "  <tbody>\n",
              "    <tr>\n",
              "      <th>0</th>\n",
              "      <td>a3d0a7d5ad</td>\n",
              "      <td>[spent, the, entir, morn, in, a, meet, w, a, v...</td>\n",
              "      <td>my boss was not happy w/ them. Lots of fun.</td>\n",
              "      <td>0</td>\n",
              "    </tr>\n",
              "    <tr>\n",
              "      <th>1</th>\n",
              "      <td>251b6a6766</td>\n",
              "      <td>[oh, good, idea, about, put, them, on, ice, cr...</td>\n",
              "      <td>Good</td>\n",
              "      <td>1</td>\n",
              "    </tr>\n",
              "    <tr>\n",
              "      <th>2</th>\n",
              "      <td>c9e8d1ef1c</td>\n",
              "      <td>[say, good, or, should, i, say, bad, afternoon...</td>\n",
              "      <td>says good (or should i say bad?) afternoon!</td>\n",
              "      <td>0</td>\n",
              "    </tr>\n",
              "    <tr>\n",
              "      <th>3</th>\n",
              "      <td>f14f087215</td>\n",
              "      <td>[i, dont, think, you, can, vote, anymor, i, tri]</td>\n",
              "      <td>i dont think you can vote anymore!</td>\n",
              "      <td>-1</td>\n",
              "    </tr>\n",
              "    <tr>\n",
              "      <th>4</th>\n",
              "      <td>bf7473b12d</td>\n",
              "      <td>[haha, better, drunken, tweet, you, mean]</td>\n",
              "      <td>better</td>\n",
              "      <td>1</td>\n",
              "    </tr>\n",
              "    <tr>\n",
              "      <th>...</th>\n",
              "      <td>...</td>\n",
              "      <td>...</td>\n",
              "      <td>...</td>\n",
              "      <td>...</td>\n",
              "    </tr>\n",
              "    <tr>\n",
              "      <th>31016</th>\n",
              "      <td>2f8444db6c</td>\n",
              "      <td>[_shannon1234, shanni, im, so, sorri, didnt, m...</td>\n",
              "      <td>&lt;NA&gt;</td>\n",
              "      <td>-1</td>\n",
              "    </tr>\n",
              "    <tr>\n",
              "      <th>31017</th>\n",
              "      <td>11de8c0456</td>\n",
              "      <td>[im, slow, on, my, tweetscuas, i, lost, my, ph...</td>\n",
              "      <td>&lt;NA&gt;</td>\n",
              "      <td>-1</td>\n",
              "    </tr>\n",
              "    <tr>\n",
              "      <th>31018</th>\n",
              "      <td>08f6036add</td>\n",
              "      <td>[invas, of, the, old, ladi, ha, just, end, sti...</td>\n",
              "      <td>&lt;NA&gt;</td>\n",
              "      <td>0</td>\n",
              "    </tr>\n",
              "    <tr>\n",
              "      <th>31019</th>\n",
              "      <td>27d6472b81</td>\n",
              "      <td>[my, nose, stud, fell, out, and, i, cant, find...</td>\n",
              "      <td>&lt;NA&gt;</td>\n",
              "      <td>-1</td>\n",
              "    </tr>\n",
              "    <tr>\n",
              "      <th>31020</th>\n",
              "      <td>aa1a163174</td>\n",
              "      <td>[will, do]</td>\n",
              "      <td>&lt;NA&gt;</td>\n",
              "      <td>0</td>\n",
              "    </tr>\n",
              "  </tbody>\n",
              "</table>\n",
              "<p>31021 rows × 4 columns</p>\n",
              "</div>"
            ],
            "text/plain": [
              "           textID  ... sentiment\n",
              "0      a3d0a7d5ad  ...         0\n",
              "1      251b6a6766  ...         1\n",
              "2      c9e8d1ef1c  ...         0\n",
              "3      f14f087215  ...        -1\n",
              "4      bf7473b12d  ...         1\n",
              "...           ...  ...       ...\n",
              "31016  2f8444db6c  ...        -1\n",
              "31017  11de8c0456  ...        -1\n",
              "31018  08f6036add  ...         0\n",
              "31019  27d6472b81  ...        -1\n",
              "31020  aa1a163174  ...         0\n",
              "\n",
              "[31021 rows x 4 columns]"
            ]
          },
          "metadata": {
            "tags": []
          },
          "execution_count": 6
        }
      ]
    },
    {
      "cell_type": "code",
      "metadata": {
        "id": "aehuJXeNAXBp",
        "colab_type": "code",
        "colab": {}
      },
      "source": [
        "from sklearn.feature_extraction.text import CountVectorizer\n",
        "\n",
        "data['text'] = data['text'].apply(lambda x: ' '.join(x))\n",
        "\n",
        "count_vect = CountVectorizer()\n",
        "counts = count_vect.fit_transform(data['text'])"
      ],
      "execution_count": 0,
      "outputs": []
    },
    {
      "cell_type": "code",
      "metadata": {
        "id": "R0Edy1bhAtS1",
        "colab_type": "code",
        "colab": {}
      },
      "source": [
        "from sklearn.feature_extraction.text import TfidfTransformer\n",
        "\n",
        "transformer = TfidfTransformer().fit(counts)\n",
        "\n",
        "counts = transformer.transform(counts)"
      ],
      "execution_count": 0,
      "outputs": []
    },
    {
      "cell_type": "code",
      "metadata": {
        "id": "9FUEnstZA7hs",
        "colab_type": "code",
        "colab": {}
      },
      "source": [
        "from sklearn.model_selection import train_test_split\n",
        "\n",
        "X_train, X_test, y_train, y_test = train_test_split(counts, data['sentiment'], test_size=3535, shuffle=False, stratify=None)"
      ],
      "execution_count": 0,
      "outputs": []
    },
    {
      "cell_type": "code",
      "metadata": {
        "id": "8pCloAlHBRkc",
        "colab_type": "code",
        "outputId": "34c0ba6e-4905-4fec-9fea-e4f6e5b14326",
        "colab": {
          "base_uri": "https://localhost:8080/",
          "height": 102
        }
      },
      "source": [
        "from sklearn.svm import SVC\n",
        "model = SVC(kernel='rbf')\n",
        "print(\"finished training rbf\")\n",
        "model2 = SVC(kernel='poly')\n",
        "model.fit(X_train, y_train)\n",
        "model2.fit(X_train, y_train)"
      ],
      "execution_count": 0,
      "outputs": [
        {
          "output_type": "stream",
          "text": [
            "finished training rbf\n"
          ],
          "name": "stdout"
        },
        {
          "output_type": "execute_result",
          "data": {
            "text/plain": [
              "SVC(C=1.0, break_ties=False, cache_size=200, class_weight=None, coef0=0.0,\n",
              "    decision_function_shape='ovr', degree=3, gamma='scale', kernel='poly',\n",
              "    max_iter=-1, probability=False, random_state=None, shrinking=True,\n",
              "    tol=0.001, verbose=False)"
            ]
          },
          "metadata": {
            "tags": []
          },
          "execution_count": 10
        }
      ]
    },
    {
      "cell_type": "code",
      "metadata": {
        "id": "x6WvsXCvBUPg",
        "colab_type": "code",
        "outputId": "39fbce9f-f9a8-4821-d32e-a9e0eb194edc",
        "colab": {
          "base_uri": "https://localhost:8080/",
          "height": 85
        }
      },
      "source": [
        "import numpy as np\n",
        "from sklearn.metrics import accuracy_score\n",
        "\n",
        "predicted = model.predict(X_test)\n",
        "predicted2 = model2.predict(X_test)\n",
        "\n",
        "print(np.mean(predicted == y_test))\n",
        "print(np.mean(predicted2 == y_test))\n",
        "#print(accuracy_score(y_test, predicted))\n",
        "#print(accuracy_score(y_test, predicted2))"
      ],
      "execution_count": 0,
      "outputs": [
        {
          "output_type": "stream",
          "text": [
            "0.7072135785007072\n",
            "0.5626591230551626\n",
            "0.7072135785007072\n",
            "0.5626591230551626\n"
          ],
          "name": "stdout"
        }
      ]
    },
    {
      "cell_type": "code",
      "metadata": {
        "id": "itrP97l1BeAb",
        "colab_type": "code",
        "outputId": "51d362c4-fd86-429d-db7b-cb1f0a58b3c4",
        "colab": {
          "base_uri": "https://localhost:8080/",
          "height": 119
        }
      },
      "source": [
        "from sklearn.metrics import confusion_matrix\n",
        "\n",
        "print(confusion_matrix(y_test, predicted))\n",
        "print(confusion_matrix(y_test, predicted2))"
      ],
      "execution_count": 0,
      "outputs": [
        {
          "output_type": "stream",
          "text": [
            "[[ 598  381   22]\n",
            " [ 150 1165  115]\n",
            " [  33  334  737]]\n",
            "[[ 256  739    6]\n",
            " [  45 1345   40]\n",
            " [   7  709  388]]\n"
          ],
          "name": "stdout"
        }
      ]
    },
    {
      "cell_type": "code",
      "metadata": {
        "id": "cEbZawy2AAQA",
        "colab_type": "code",
        "outputId": "2d5ff948-2e2f-474d-80d3-3d3f10a1e050",
        "colab": {
          "base_uri": "https://localhost:8080/",
          "height": 119
        }
      },
      "source": [
        "from sklearn.metrics import f1_score\n",
        "\n",
        "print(f1_score(y_test, predicted, average='micro'))\n",
        "print(f1_score(y_test, predicted, average='macro'))\n",
        "print(f1_score(y_test, predicted, average='weighted'))\n",
        "\n",
        "print(f1_score(y_test, predicted2, average='micro'))\n",
        "print(f1_score(y_test, predicted2, average='macro'))\n",
        "print(f1_score(y_test, predicted2, average='weighted'))"
      ],
      "execution_count": 0,
      "outputs": [
        {
          "output_type": "stream",
          "text": [
            "0.7072135785007072\n",
            "0.7067602219312997\n",
            "0.7075363929594987\n",
            "0.5626591230551626\n",
            "0.5108925207260429\n",
            "0.5260104241763665\n"
          ],
          "name": "stdout"
        }
      ]
    },
    {
      "cell_type": "code",
      "metadata": {
        "id": "bqwvrsdNAvKZ",
        "colab_type": "code",
        "outputId": "69f8d490-c9db-41ee-d0e7-a2c5f3adc50e",
        "colab": {
          "base_uri": "https://localhost:8080/",
          "height": 119
        }
      },
      "source": [
        "from sklearn.metrics import jaccard_score\n",
        "\n",
        "print(jaccard_score(y_test, predicted, average='micro'))\n",
        "print(jaccard_score(y_test, predicted, average='macro'))\n",
        "print(jaccard_score(y_test, predicted, average='weighted'))\n",
        "\n",
        "print(jaccard_score(y_test, predicted2, average='micro'))\n",
        "print(jaccard_score(y_test, predicted2, average='macro'))\n",
        "print(jaccard_score(y_test, predicted2, average='weighted'))"
      ],
      "execution_count": 0,
      "outputs": [
        {
          "output_type": "stream",
          "text": [
            "0.5470459518599562\n",
            "0.547355672406035\n",
            "0.5481975396344\n",
            "0.3914583743357607\n",
            "0.34928154786476956\n",
            "0.36326222880514114\n"
          ],
          "name": "stdout"
        }
      ]
    },
    {
      "cell_type": "code",
      "metadata": {
        "id": "039V1rBu6LRD",
        "colab_type": "code",
        "colab": {}
      },
      "source": [
        ""
      ],
      "execution_count": 0,
      "outputs": []
    }
  ]
}